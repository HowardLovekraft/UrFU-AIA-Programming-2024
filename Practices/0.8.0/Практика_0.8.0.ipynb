{
 "cells": [
  {
   "cell_type": "markdown",
   "metadata": {},
   "source": [
    "ФИО: Холкин Николай Алексеевич"
   ]
  },
  {
   "cell_type": "markdown",
   "metadata": {
    "id": "ra45s33wUt-C"
   },
   "source": [
    "# Задание 1"
   ]
  },
  {
   "cell_type": "markdown",
   "metadata": {
    "id": "G56D5mNCUwp5"
   },
   "source": [
    "Задача: Создать чат бота для получения информации об исследованиях космоса\n",
    "\n",
    "Описание: Создайте комплексное приложение командной строки, которое будет использоваться в качестве панели управления исследованиями космоса. Данное приложение будет обращаться к https://api.nasa.gov/ для предоставления пользователям набора информации о космосе, включая:\n",
    "\n",
    "- Астрономическая картинка дня (APOD): Отображение APOD с пояснениями к нему.\n",
    "- Фотографии с марсохода: позволяет пользователям выбирать и фильтровать фотографии с марсохода по дате и типу камеры.\n",
    "- Объекты, сближающиеся с Землей (ОСЗ): Поиск и отображение информации об объекте, сближающихся с Землей, на определенную дату, включая их размеры и потенциальную опасность.\n",
    "- Данные о космической погоде: Отображают последние данные о космической погоде, включая солнечные вспышки и геомагнитные бури.\n",
    "Приложение должно позволять пользователям ориентироваться в этих функциях, корректно обрабатывать ошибки и обеспечивать удобство работы.\n",
    "\n",
    "Требования:\n",
    "- Пользовательский ввод: Приложение должно предложить пользователю ввести данные, чтобы выбрать, какую функцию он хочет изучить.\n",
    "- Проверка данных: Убедитесь, что пользовательские данные (например, даты) проверены.\n",
    "- Обработка ошибок: Корректно обрабатывайте ошибки API и неверные ответы.\n",
    "- Представление данных: Представляйте данные в четкой и организованной форме.\n",
    "- Опция выхода: позволяет пользователям выходить из приложения в любое время."
   ]
  },
  {
   "cell_type": "code",
   "execution_count": 1,
   "metadata": {
    "colab": {
     "base_uri": "https://localhost:8080/"
    },
    "id": "wGeJM9n4UqUD",
    "outputId": "36035028-168d-46c1-f92e-8c31f8e1f551"
   },
   "outputs": [
    {
     "name": "stdout",
     "output_type": "stream",
     "text": [
      "Collecting python-dotenv\n",
      "  Using cached python_dotenv-1.0.1-py3-none-any.whl.metadata (23 kB)\n",
      "Using cached python_dotenv-1.0.1-py3-none-any.whl (19 kB)\n",
      "Installing collected packages: python-dotenv\n",
      "Successfully installed python-dotenv-1.0.1\n"
     ]
    },
    {
     "name": "stderr",
     "output_type": "stream",
     "text": [
      "C:\\Users\\1\\AppData\\Local\\Temp\\ipykernel_2844\\3111433618.py:70: DeprecationWarning: datetime.datetime.utcnow() is deprecated and scheduled for removal in a future version. Use timezone-aware objects to represent datetimes in UTC: datetime.datetime.now(datetime.UTC).\n",
      "  cur_date = dt.datetime.utcnow().strftime('%Y-%m-%d')\n"
     ]
    },
    {
     "name": "stdout",
     "output_type": "stream",
     "text": [
      "Вы авторизовались в приложении SpaceInfoBot. Список операций:\n",
      "0. Покажи астрономическую картину дня (APOD)\n",
      "1. Покажи фотографии с марсохода\n",
      "2. Покажи объекты, сближающиеся с Землей\n",
      "3. Выведи данные о космической погоде\n",
      "4. Выйти из приложения\n"
     ]
    },
    {
     "name": "stdin",
     "output_type": "stream",
     "text": [
      "Введите номер операции (без точки):  0\n"
     ]
    },
    {
     "name": "stdout",
     "output_type": "stream",
     "text": [
      "Название фото: The Medusa Nebula\n",
      "Ссылка на фото: https://apod.nasa.gov/apod/image/2411/MEDUSA_NEBULA_FINAL_BRS_SIGNED1024.jpg\n",
      "Подпись к фото:\n",
      "Braided and serpentine filaments of glowing gas suggest this nebula's popular name, The Medusa Nebula. Also known as Abell 21, this Medusa is an old planetary nebula some 1,500 light-years away in the constellation Gemini. Like its mythological namesake, the nebula is associated with a dramatic transformation. The planetary nebula phase represents a final stage in the evolution of low mass stars like the sun as they transform themselves from red giants to hot white dwarf stars and in the process shrug off their outer layers. Ultraviolet radiation from the hot star powers the nebular glow. The Medusa's transforming star is the faint one near the center of the overall bright crescent shape. In this deep telescopic view, fainter filaments clearly extend below and to the left. The Medusa Nebula is estimated to be over 4 light-years across.\n",
      "Авторские права: Bruno Rota Sargi\n"
     ]
    },
    {
     "name": "stdin",
     "output_type": "stream",
     "text": [
      "Введите номер операции (без точки):  4\n"
     ]
    }
   ],
   "source": [
    "!pip install python-dotenv\n",
    "from dotenv import load_dotenv\n",
    "from os import getenv\n",
    "\n",
    "from typing import TypedDict\n",
    "import datetime as dt\n",
    "import requests\n",
    "\n",
    "class APOD(TypedDict):\n",
    "    \"\"\"Неполное представление значения, возвращаемого APOD API.\"\"\"\n",
    "    title: str\n",
    "    date: str\n",
    "    url: str\n",
    "    explanation: str\n",
    "    copyright: str\n",
    "\n",
    "\n",
    "def validate_user_date(user_date: str) -> bool:\n",
    "    \"\"\"\n",
    "    Проверяет соответствие введенной пользователем даты на соответствие формату\n",
    "    YYYY-MM-DD.\n",
    "    :param user_date: Дата пользователя\n",
    "    \"\"\"\n",
    "    return True  # FIXME!! DEBUG ONLY!\n",
    "\n",
    "\n",
    "def print_apod(apod_info: APOD) -> None:\n",
    "    \"\"\"Выводит в stdout данные об APOD.\"\"\"\n",
    "    print(f'Название фото: {apod_info[\"title\"]}')\n",
    "    print(f'Ссылка на фото: {apod_info[\"url\"]}')\n",
    "    explanation = apod_info[\"explanation\"].replace('  ', '\\n')\n",
    "    print(f'Подпись к фото:\\n{explanation}')\n",
    "    print(f'Авторские права: {apod_info[\"copyright\"]}')\n",
    "\n",
    "\n",
    "def print_asteroids(cur_date: str, response: dict) -> None:\n",
    "    \"\"\"\n",
    "    Выводит в консоль информацию об астероидах, которые проходят рядом с Землей\n",
    "    в конкретный день, полученный от NASA NeoWs API\n",
    "    :param cur_date: Сегодняшняя дата формата YYYY-mm-dd\n",
    "    \"\"\"\n",
    "    for asteroid in jsoned_response['near_earth_objects'][cur_date]:\n",
    "        min_diam_meters, max_diam_meters = asteroid['estimated_diameter']['meters'].values()\n",
    "        hazard = asteroid['is_potentially_hazardous_asteroid']\n",
    "\n",
    "        print(f'Мин. диаметр: {min_diam_meters:.2f} метров',\n",
    "              f'Макс. диаметр: {max_diam_meters:.2f} метров',\n",
    "              f'Опасен ли астероид: {\"Да\" if hazard else \"Нет\"}', sep='\\n')\n",
    "\n",
    "\n",
    "load_dotenv('venv.env')\n",
    "TOKEN_API = getenv('NASA_API')\n",
    "\n",
    "GREETING_MSG = 'Вы авторизовались в приложении SpaceInfoBot. Список операций:'\n",
    "OPERATIONS_LIST = ('Покажи астрономическую картину дня (APOD)',\n",
    "                   'Покажи фотографии с марсохода',\n",
    "                   'Покажи объекты, сближающиеся с Землей',\n",
    "                   'Выведи данные о космической погоде',\n",
    "                   'Выйти из приложения')\n",
    "ROVERS_LIST = {'0': 'curiosity',\n",
    "               '1': 'opportunity',\n",
    "               '2': 'spirit'}\n",
    "ROVER_CAMERAS_LIST = {'0': 'fhaz',\n",
    "                      '1': 'rhaz',\n",
    "                      '2': 'navcam'}\n",
    "\n",
    "operations = tuple(f'{num}. {action}' for num, action in enumerate(OPERATIONS_LIST))\n",
    "rovers = tuple(f'{num}. {rover}' for num, rover in ROVERS_LIST.items())\n",
    "cameras = tuple(f'{num}. {camera}' for num, camera in ROVER_CAMERAS_LIST.items())\n",
    "cur_date = dt.datetime.utcnow().strftime('%Y-%m-%d')\n",
    "\n",
    "print(GREETING_MSG)\n",
    "print(*operations, sep='\\n')\n",
    "\n",
    "while True:\n",
    "    op_num = input('Введите номер операции (без точки): ')\n",
    "    if op_num == '0':  # APOD\n",
    "        response = requests.get(f'https://api.nasa.gov/planetary/apod?api_key={TOKEN_API}')\n",
    "        if response.status_code in (200, 201):\n",
    "            jsoned_response = response.json()\n",
    "            print_apod(jsoned_response)\n",
    "\n",
    "    elif op_num == '1':  # Фото марсохода\n",
    "        print('Напишите номер марсохода (без точки):', *rovers, sep='\\n')\n",
    "        rover_name = ROVERS_LIST.get(input())\n",
    "\n",
    "        if rover_name is not None:  # rover_name is valid\n",
    "            date_photo = input('Введите дату (формат YYYY-MM-DD): ')\n",
    "            if validate_user_date(date_photo): # date is valid\n",
    "                print('Введите номер камеры', *cameras, sep='\\n')\n",
    "                camera = ROVER_CAMERAS_LIST.get(input())\n",
    "                if camera is not None:  # camera is valid\n",
    "                    response = requests.get(f'https://api.nasa.gov/mars-photos/api/v1/rovers/{rover_name}/photos?earth_date={date_photo}&camera={camera}&api_key={TOKEN_API}')\n",
    "                    if response.status_code in (200, 201):\n",
    "                        photos = [photo['img_src'] for photo in response.json()['photos']]\n",
    "                        print(*photos, sep='\\n')\n",
    "                    else:\n",
    "                        print('Запрос сформирован неверно')\n",
    "                else:\n",
    "                    print('Вы ввели неверный номер камеры')\n",
    "            else:\n",
    "                print('Вы ввели неверную дату')\n",
    "        else:\n",
    "            print('Марсохода с таким номером нет')\n",
    "    elif op_num == '2':  # ОСЗ\n",
    "        response = requests.get(f'https://api.nasa.gov/neo/rest/v1/feed?start_date={cur_date}&end_date={cur_date}&api_key={TOKEN_API}')\n",
    "        if response.status_code in (200, 201):\n",
    "            jsoned_response = response.json()\n",
    "            print_asteroids(cur_date, jsoned_response)\n",
    "        else:\n",
    "            print(f'Ответ сервера неверный. Код ответа - {response.status_code}')\n",
    "\n",
    "    elif op_num == '3':  # Космическая погода\n",
    "        gst_response = requests.get(f'https://api.nasa.gov/DONKI/GST?startDate={cur_date}&endDate={cur_date}&api_key={TOKEN_API}')\n",
    "        flr_response = requests.get(f'https://api.nasa.gov/DONKI/FLR?startDate={cur_date}&endDate={cur_date}&api_key={TOKEN_API}')\n",
    "        if (gst_response.status_code in (200, 201) and\n",
    "            flr_response.status_code in (200, 201)):\n",
    "            geomagnetic_storms = [(gst['observedTime'], gst['kpIndex']) \\\n",
    "                                  for geom_st in gst_response.json()\n",
    "                                  for gst in geom_st['allKpIndex']]\n",
    "\n",
    "            sun_flares = [(flr['beginTime'], flr['classType']) \\\n",
    "                          for flr in flr_response.json()]\n",
    "\n",
    "            if geomagnetic_storms:\n",
    "                print('Геомагнитные бури:')\n",
    "                for time, kp_index in geomagnetic_storms:\n",
    "                    time = dt.datetime.fromisoformat(time[:-1]).astimezone(dt.timezone.utc)\n",
    "                    print(f'Время начала бури: {time}\\nК-индекс: {kp_index}\\n')\n",
    "            else:\n",
    "                print('Геомагнитных бурь сегодня нет.')\n",
    "\n",
    "            if sun_flares:\n",
    "                print('Солнечные вспышки:')\n",
    "                for date, class_type in sun_flares:\n",
    "                    date = dt.datetime.fromisoformat(date[:-1]).astimezone(dt.timezone.utc).strftime('%Y-%m-%d %H:%M')\n",
    "                    print(f'Дата начала вспышки: {date}\\nТип вспышки: {class_type}\\n')\n",
    "            else:\n",
    "                print('Солнечных вспышек сегодня нет.')\n",
    "\n",
    "    elif op_num == '4':  # Ctrl-C\n",
    "        break"
   ]
  },
  {
   "cell_type": "markdown",
   "metadata": {
    "id": "ia9UtA0cU1Iy"
   },
   "source": [
    "# Задание 2"
   ]
  },
  {
   "cell_type": "markdown",
   "metadata": {
    "id": "Ofu_GmqrU1Iy"
   },
   "source": [
    "Описание задачи\n",
    "\n",
    "Цель этой задачи - создать скрипт на Python, который взаимодействует с API Чикагского института искусств (https://api.artic.edu/docs/) для извлечения и отображения произведений искусства. Скрипт должен позволять пользователям просматривать работы по страницам, фильтровать их по имени художника и просматривать подробную информацию о выбранных произведениях искусства. Ниже приведены требования и функциональные возможности, которые необходимо реализовать:\n",
    "\n",
    "Требования:\n",
    "Извлекать произведения искусства:\n",
    "\n",
    "- Создайте функцию, которая извлекает список произведений искусства из API Чикагского института искусств.\n",
    "Функция должна принимать параметр page для разбивки на страницы и возвращать список произведений искусства вместе с информацией о разбивке на страницы.\n",
    "Фильтровать произведения искусства:\n",
    "\n",
    "- Реализуйте функцию, которая фильтрует список произведений искусства на основе имени указанного художника. Функция должна возвращать список работ, которые соответствуют имени художника (без учета регистра).\n",
    "Отображать подробную информацию об оформлении:\n",
    "\n",
    "- Напишите функцию, которая отображает названия работ для пользователя и позволяет ему выбрать одну из них, введя соответствующий номер.\n",
    "После выбора функция должна отображать подробную информацию о выбранном произведении, включая название, исполнителя, дату и носитель.\n",
    "Разбивка на страницы и взаимодействие с пользователем:\n",
    "\n",
    "- Создайте основную функцию, которая управляет выборкой произведений и взаимодействием с пользователем.\n",
    "\n",
    "Разрешите пользователям перемещаться по страницам с произведениями искусства, выполнять фильтрацию по исполнителю или выходить из программы.\n",
    "\n",
    "Если страниц с произведениями искусства несколько, укажите варианты перехода к следующей странице, предыдущей странице, фильтрации по исполнителю или выхода из программы."
   ]
  },
  {
   "cell_type": "code",
   "execution_count": null,
   "metadata": {
    "colab": {
     "base_uri": "https://localhost:8080/"
    },
    "id": "jjUH1GznU1Iy",
    "outputId": "a966a228-98c7-4e56-9c89-3c844fa6276e"
   },
   "outputs": [
    {
     "name": "stdout",
     "output_type": "stream",
     "text": [
      "Overwriting task2.py\n"
     ]
    }
   ],
   "source": [
    "import requests as r\n",
    "from typing import TypedDict\n",
    "from sys import stderr\n",
    "\n",
    "class Pagination(TypedDict):\n",
    "    \"\"\"Представление значений по ключу pagination из ответов api.artic.edu\"\"\"\n",
    "    total: int\n",
    "    limit: int\n",
    "    offset: int\n",
    "    total_pages: int\n",
    "    current_page: int\n",
    "    next_url: str\n",
    "\n",
    "\n",
    "class Artwork(TypedDict):\n",
    "    \"\"\"\n",
    "    Неполное представление элемента списка data\n",
    "    из ответа https://api.artic.edu/api/v1/artworks\n",
    "    \"\"\"\n",
    "    id: int\n",
    "    api_link: str\n",
    "    title: str\n",
    "    artist_title: str\n",
    "\n",
    "\n",
    "class Artworks(TypedDict):\n",
    "    \"\"\"\n",
    "    Представление JSON-ответа сервиса https://api.artic.edu/api/v1/artworks\n",
    "    \"\"\"\n",
    "    pagination: Pagination\n",
    "    data: list[Artwork]\n",
    "\n",
    "\n",
    "def valid_json_response(url: str) -> Artworks:\n",
    "    \"\"\"\n",
    "    Возвращает JSON-like ответ от сервиса с адресом url.\n",
    "    :param url: URL сервиса\n",
    "    \"\"\"\n",
    "    response = r.get(url)\n",
    "    if response.status_code in (200, 201):\n",
    "        return response.json()\n",
    "    stderr.write(f'API не вернул данные. Код ответа - {response.status_code}')\n",
    "    return Artworks  # костыль x_x\n",
    "\n",
    "\n",
    "def print_artworks(artworks: Artworks, page: int, total_pages: int) -> str:\n",
    "    \"\"\"\n",
    "    Выводит в консоль информацию о произведениях искусства.\n",
    "    :param artworks: Экземпляр класса Artworks\n",
    "    :param page: Номер текущей страницы в CLI\n",
    "    :param total_pages: Общее число страниц в CLI\n",
    "    \"\"\"\n",
    "    print(f'Страница {page}/{total_pages}')\n",
    "    for artwork in artworks['data']:\n",
    "        print(f'ID работы: {artwork[\"id\"]}',\n",
    "              f'Название работы: {artwork[\"title\"]}',\n",
    "              f'Имя автора: {artwork[\"artist_title\"]}', sep='\\n', end='\\n\\n')\n",
    "\n",
    "    next_page = input('Введите номер следующей страницы\\n(Или введите 0, ' + \\\n",
    "                      'чтобы закрыть диалоговое окно): ')\n",
    "    print('')  # для 'красоты' CLI\n",
    "    return next_page\n",
    "\n",
    "\n",
    "def print_searched_arts(artworks: Artworks, page: int,\n",
    "                        total_pages: int) -> str:\n",
    "    print(f'Страница {page}/{total_pages}')\n",
    "    for searched_artwork in artworks['data']:\n",
    "        artwork = searched_artwork\n",
    "        print(f'ID работы: {artwork[\"id\"]}',\n",
    "              f'Название работы: {artwork[\"title\"]}', sep='\\n', end='\\n\\n')\n",
    "\n",
    "    next_page = input('Введите номер следующей страницы\\n(Или введите 0, ' + \\\n",
    "                      'чтобы закрыть диалоговое окно): ')\n",
    "    print('')  # для 'красоты' CLI\n",
    "    return next_page\n",
    "\n",
    "\n",
    "def get_artworks_by_page(page: int = '1') -> None:\n",
    "    \"\"\"\n",
    "    Получает страницу из списка произведений искусств в коллекции\n",
    "    Чикагского института искусств.\n",
    "    :param page: Номер страницы (6 элементов/страница)\n",
    "    \"\"\"\n",
    "    json_response = valid_json_response(f'https://api.artic.edu/api/v1/artworks?page={page}&limit=6')\n",
    "    total_pages = json_response['pagination']['total_pages']\n",
    "    if json_response:\n",
    "        while page != '0':\n",
    "            page = print_artworks(json_response, page, total_pages)\n",
    "    else:\n",
    "        print('Возникла ошибка в ходе получения ответа от сервера.')\n",
    "\n",
    "\n",
    "def get_artworks_by_author(author: str, page: int = '1') -> None:\n",
    "    \"\"\"\n",
    "    Получает страницу из списка произведений искусств для автора author\n",
    "    :param author: Имя автора\n",
    "    :param page: Номер страницы (6 элементов/страница)\n",
    "    \"\"\"\n",
    "    json_response = valid_json_response(f'https://api.artic.edu/api/v1/artworks/search?q={author}&limit=6')\n",
    "    total_pages = json_response['pagination']['total_pages']\n",
    "    if json_response:\n",
    "        while page != '0':\n",
    "            page = print_searched_arts(json_response, page, total_pages)\n",
    "    else:\n",
    "        print('Возникла ошибка в ходе получения ответа от сервера.')\n",
    "\n",
    "\n",
    "def get_artwork_by_title(title: str, page: int = '1') -> None:\n",
    "    \"\"\"\n",
    "    Получает страницу из списка произведений искусств для названия title\n",
    "    :param title: Название картины\n",
    "    :param page: Номер страницы (6 элементов/страница)\n",
    "    \"\"\"\n",
    "    json_response = valid_json_response(f'https://api.artic.edu/api/v1/artworks/search?q={title}&limit=6')\n",
    "    total_pages = json_response['pagination']['total_pages']\n",
    "    if json_response:\n",
    "        while page != '0':\n",
    "            page = print_searched_arts(json_response, page, total_pages)\n",
    "    else:\n",
    "        print('Возникла ошибка в ходе получения ответа от сервера.')\n",
    "\n",
    "\n",
    "OPERATIONS = ('Показать все произведения искусств из базы университета',\n",
    "              'Отфильтровать произведения искусства по автору',\n",
    "              'Найти информацию о произведении по названию',\n",
    "              'Завершить работу скрипта')\n",
    "ENUM_OPERATIONS = (f'{num}. {oper}' for num, oper in enumerate(OPERATIONS))\n",
    "\n",
    "print('Вы авторизовались в скрипте, работающим с API AIC.',\n",
    "      'Список операций:', *ENUM_OPERATIONS, sep='\\n')\n",
    "\n",
    "while True:\n",
    "    oper_num = input('Введите номер операции (без точки): ')\n",
    "    print('')  # для 'красоты' CLI\n",
    "\n",
    "    if oper_num == '0':  # выбор по номеру\n",
    "        get_artworks_by_page()\n",
    "\n",
    "    elif oper_num == '1':  # фильтр по автору\n",
    "        author = input('Введите имя автора:\\n')\n",
    "        get_artworks_by_author(author)\n",
    "\n",
    "    elif oper_num == '2':  # поиск по названию\n",
    "        title = input('Введите название картины:\\n')\n",
    "        get_artwork_by_title(title)\n",
    "\n",
    "    elif oper_num == '3':  # Ctrl-C\n",
    "        print('Скрипт завершил работу.')\n",
    "        break\n",
    "\n",
    "    else:\n",
    "        print('Вы ввели неверный номер операции.')"
   ]
  },
  {
   "cell_type": "markdown",
   "metadata": {
    "id": "eecUb-akU1ji"
   },
   "source": [
    "# Задание 3"
   ]
  },
  {
   "cell_type": "markdown",
   "metadata": {
    "id": "jsK7IKptU1ji"
   },
   "source": [
    "Задача: Создать программу по управлению портфелем криптовалют\n",
    "\n",
    "Цель: Создать скрипт на Python, который извлекает цены на криптовалюты в режиме реального времени, позволяет пользователям управлять портфелем криптовалют, вычисляет общую стоимость портфеля, отслеживает изменения цен и предоставляет исторические данные о ценах для анализа.\n",
    "\n",
    "Требования:\n",
    "Получение текущих цен на криптовалюты:\n",
    "\n",
    "Используйте https://docs.coingecko.com/ для получения актуальных цен на список криптовалют.\n",
    "\n",
    "Управление портфелем:\n",
    "\n",
    "- Позволяет пользователю создавать портфель криптовалют и управлять им, указывая количество каждой криптовалюты, которой он владеет.\n",
    "- Расчитывает общую стоимость портфеля в указанной фиатной валюте (например, долларах США).\n",
    "\n",
    "Отслеживание изменения цен:\n",
    "\n",
    "- Отображение процентного изменения цены для каждой криптовалюты в портфеле за последние 24 часа.\n",
    "- Выделите все криптовалюты, стоимость которых значительно увеличилась или снизилась.\n",
    "\n",
    "Поиск исторических данных о ценах:\n",
    "\n",
    "- Получение исторических данных о ценах на указанную криптовалюту за последнюю неделю.\n",
    "- Предоставьте пользователю возможность визуализировать эти данные в простом текстовом формате (например, цены за день).\n",
    "\n",
    "Взаимодействие с пользователем:\n",
    "\n",
    "- Реализуйте интерфейс командной строки для ввода данных пользователем.\n",
    "- Предоставьте опции для получения текущих цен, управления портфелем, просмотра изменений цен или анализа исторических данных.\n"
   ]
  },
  {
   "cell_type": "code",
   "execution_count": null,
   "metadata": {
    "id": "_0DToTqlvywa"
   },
   "outputs": [],
   "source": []
  },
  {
   "cell_type": "markdown",
   "metadata": {
    "id": "QGrsZrv5U1s8"
   },
   "source": [
    "# Дополнительно: Задание 4"
   ]
  },
  {
   "cell_type": "markdown",
   "metadata": {
    "id": "qs_XITmYU1s8"
   },
   "source": [
    "Задание 4: Проектное\n",
    "\n",
    "Вам необходимо самостоятельно найти откртое API предоставляющее информацию в открытом доступе и реализовать собственный проект!\n",
    "\n",
    "\n",
    "Критерии приемки результата:\n",
    "\n",
    "- Проект включает в себя не менее 5 возможостей для пользователя\n",
    "- Проект позволяет использовать все возможности проекта пользователю при помощи взаимодействия через коммандную строку\n",
    "- Проект работает с открытым API (это значит что при проверке вашей работы преподавателем, преподавателю необходимо просто запустить ячейку с кодом вашего проекта и она будет работать без дополнительных манипуляции)\n",
    "- Проект должен обязательно включать в себя ряд используемых конструкции:\n",
    "    - Функции\n",
    "    - Условные конструкции\n",
    "    - Ввод/вывод\n",
    "    - Словари/Списки\n",
    "- Допускается использование библиотек:\n",
    "    - requests\n",
    "    - datetime\n",
    "    - random"
   ]
  },
  {
   "cell_type": "markdown",
   "metadata": {
    "id": "VKXhaJi4FL0B"
   },
   "source": [
    "**Здесь добавьте описание вашего проекта**"
   ]
  },
  {
   "cell_type": "code",
   "execution_count": null,
   "metadata": {
    "id": "wiA55k1KU1s8"
   },
   "outputs": [],
   "source": [
    "#  А здесь код"
   ]
  }
 ],
 "metadata": {
  "colab": {
   "collapsed_sections": [
    "eecUb-akU1ji",
    "QGrsZrv5U1s8"
   ],
   "provenance": []
  },
  "kernelspec": {
   "display_name": "Python 3 (ipykernel)",
   "language": "python",
   "name": "python3"
  },
  "language_info": {
   "codemirror_mode": {
    "name": "ipython",
    "version": 3
   },
   "file_extension": ".py",
   "mimetype": "text/x-python",
   "name": "python",
   "nbconvert_exporter": "python",
   "pygments_lexer": "ipython3",
   "version": "3.12.5"
  }
 },
 "nbformat": 4,
 "nbformat_minor": 4
}
