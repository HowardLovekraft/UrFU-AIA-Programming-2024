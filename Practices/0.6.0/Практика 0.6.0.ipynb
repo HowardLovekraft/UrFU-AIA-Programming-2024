{
 "cells": [
  {
   "cell_type": "markdown",
   "metadata": {
    "id": "tKNG_RzWxG6g"
   },
   "source": [
    "\n",
    "\n",
    "---\n",
    "\n"
   ]
  },
  {
   "cell_type": "markdown",
   "metadata": {},
   "source": [
    "ФИО: Холкин Николай Алексеевич"
   ]
  },
  {
   "cell_type": "markdown",
   "metadata": {
    "id": "cFcrKfclKWh0"
   },
   "source": [
    "# **Дисклеймер**\n",
    "\n",
    "В данной практике будет введен дополнительный критерий: чистота и читаемость кода, а также соблюдение правил описанных в начале практики"
   ]
  },
  {
   "cell_type": "code",
   "execution_count": 3,
   "metadata": {
    "executionInfo": {
     "elapsed": 19,
     "status": "ok",
     "timestamp": 1730127997882,
     "user": {
      "displayName": "_Griff __",
      "userId": "13893896625557140990"
     },
     "user_tz": -300
    },
    "id": "Af9QuT2GmeiQ"
   },
   "outputs": [],
   "source": [
    "from typing import Iterable, Any, Union, TypedDict, TypeAlias"
   ]
  },
  {
   "cell_type": "markdown",
   "metadata": {
    "id": "0SnE87X1xDlV"
   },
   "source": [
    "\n",
    "\n",
    "---\n",
    "\n"
   ]
  },
  {
   "cell_type": "markdown",
   "metadata": {
    "id": "VxawR9NubT_F"
   },
   "source": [
    "# Задание 1\n",
    "\n",
    "**Задача:**\n",
    "\n",
    "Напишите функцию очищающий список от дубликтов\n",
    "\n",
    "\n",
    "*Запрещено:*\n",
    "\n",
    "*   Использовать set() или готовые функции очищающие список от дубликатов\n",
    "\n",
    "Вввод:\n",
    "\n",
    "```\n",
    "apple banana apple 1 3 4 4 5\n",
    "```\n",
    "\n",
    "\n",
    "Вывод:\n",
    "\n",
    "```\n",
    "apple banana 1 3 4 5\n",
    "```\n",
    "\n"
   ]
  },
  {
   "cell_type": "code",
   "execution_count": null,
   "metadata": {
    "colab": {
     "base_uri": "https://localhost:8080/"
    },
    "executionInfo": {
     "elapsed": 10219,
     "status": "ok",
     "timestamp": 1729590878442,
     "user": {
      "displayName": "_Griff __",
      "userId": "13893896625557140990"
     },
     "user_tz": -300
    },
    "id": "ml5gnbPXbeju",
    "outputId": "14e4ddc8-d1fb-442a-e124-1a41a9715a03"
   },
   "outputs": [
    {
     "name": "stdout",
     "output_type": "stream",
     "text": [
      "apple banana apple 1 3 4 4 5\n",
      "apple banana 1 3 4 5\n"
     ]
    }
   ],
   "source": [
    "def set_implementation(sequence: list[Any]) -> list[Any]:\n",
    "    \"\"\"\n",
    "    Создает список на основе sequence и очищает его от дубликатов.\n",
    "    :param sequence: Список, который нужно очистисть.\n",
    "    :returns: Список, очищенный от дубликатов\n",
    "    \"\"\"\n",
    "    setty = []\n",
    "    for element in sequence:\n",
    "        if element not in setty:\n",
    "            setty.append(element)\n",
    "    return setty\n",
    "\n",
    "\n",
    "# Микротест функции\n",
    "def tests_task1() -> None:\n",
    "    param = [\"apple\", \"banana\", \"apple\", 1, 3, 4, 4, 5]\n",
    "    result = [\"apple\", \"banana\", 1, 3, 4, 5]\n",
    "    assert set_implementation(param) == result\n",
    "\n",
    "\n",
    "tests_task1()\n",
    "\n",
    "inputted_seq = list(input().split())\n",
    "print(*set_implementation(inputted_seq))"
   ]
  },
  {
   "cell_type": "markdown",
   "metadata": {
    "id": "y05x0eD0cVCC"
   },
   "source": [
    "# Задание 2\n",
    "\n",
    "**Задача:**\n",
    "\n",
    "Написать функцию для нахождения простых чисел в диапазоне\n",
    "\n",
    "Ввод:\n",
    "\n",
    "```\n",
    "10, 50\n",
    "```\n",
    "\n",
    "Вывод:\n",
    "\n",
    "```\n",
    "11, 13, 17, 19, 23, 29, 31, 37, 41, 43, 47\n",
    "```"
   ]
  },
  {
   "cell_type": "code",
   "execution_count": null,
   "metadata": {
    "colab": {
     "base_uri": "https://localhost:8080/"
    },
    "executionInfo": {
     "elapsed": 1785,
     "status": "ok",
     "timestamp": 1729591366215,
     "user": {
      "displayName": "_Griff __",
      "userId": "13893896625557140990"
     },
     "user_tz": -300
    },
    "id": "XSMJnLgrc6Bf",
    "outputId": "1280f649-c9ee-4e3a-e0f7-4408aa3fa6d3"
   },
   "outputs": [
    {
     "name": "stdout",
     "output_type": "stream",
     "text": [
      "10 59\n",
      "11 13 17 19 23 29 31 37 41 43 47 53 59\n"
     ]
    }
   ],
   "source": [
    "def primes_finder(start: int, end: int) -> tuple[int]:\n",
    "    \"\"\"\n",
    "    Возвращает все простые числа в диапазоне [start, end]\n",
    "    :param start: Начало диапазона поиска\n",
    "    :param end: Конец диапазона поиска включительно\n",
    "    \"\"\"\n",
    "\n",
    "    primes = tuple(\n",
    "        num for num in range(start, end+1) if all(\n",
    "            num % div != 0 for div in range(2, int(num**0.5)+1)\n",
    "        )\n",
    "    )\n",
    "    return primes\n",
    "\n",
    "\n",
    "# Микротест функции\n",
    "def tests_task2() -> None:\n",
    "    param = (10, 50)\n",
    "    result = (11, 13, 17, 19, 23, 29, 31, 37, 41, 43, 47)\n",
    "    assert primes_finder(*param) == result\n",
    "\n",
    "\n",
    "tests_task2()\n",
    "\n",
    "start, end = map(int, input().split())\n",
    "print(*primes_finder(start, end))"
   ]
  },
  {
   "cell_type": "markdown",
   "metadata": {
    "id": "vYM0LyxxdElN"
   },
   "source": [
    "# Задание 3\n",
    "\n",
    "Напишите функцию для объединения двух списков (список ключей и список значении) в словарь\n",
    "\n",
    "*Запрещено:*\n",
    "\n",
    "*   Использования готовых функции для объединения списков (пример: zip() )\n",
    "\n",
    "Дано:\n",
    "\n",
    "```\n",
    "keys = ['a', 'b', 'c', 'e' ]\n",
    "values = [1, 2, 3, 4]\n",
    "```\n",
    "\n",
    "Вывод:\n",
    "```\n",
    "{'a': 1, 'b': 2, 'c': 3, 'e': 4}\n",
    "```\n",
    "\n",
    "\n"
   ]
  },
  {
   "cell_type": "code",
   "execution_count": null,
   "metadata": {
    "colab": {
     "base_uri": "https://localhost:8080/"
    },
    "executionInfo": {
     "elapsed": 4075,
     "status": "ok",
     "timestamp": 1729592799187,
     "user": {
      "displayName": "_Griff __",
      "userId": "13893896625557140990"
     },
     "user_tz": -300
    },
    "id": "CRvhHTjCdvjS",
    "outputId": "5f1879cb-023d-4bb8-881e-e209c8070f14"
   },
   "outputs": [
    {
     "name": "stdout",
     "output_type": "stream",
     "text": [
      "a b c e\n",
      "1 2 3 4\n",
      "{'a': '1', 'b': '2', 'c': '3', 'e': '4'}\n"
     ]
    }
   ],
   "source": [
    "def dict_maker(keys: Iterable[Hashable],\n",
    "               values: Iterable[Any]) -> dict[Hashable, Any]:\n",
    "    \"\"\"\n",
    "    Создает на основе последовательностей keys и values словарь\n",
    "    с ключами keys и значениями values\n",
    "    :param keys: Последовательность ключей, которые можно хэшировать\n",
    "    :param values: Последовательность значений\n",
    "    \"\"\"\n",
    "    if len(keys) != len(values):\n",
    "        raise \"Length of keys and length of values are not same.\"\n",
    "\n",
    "    dicty = {keys[i]: values[i] for i in range(len(keys))}\n",
    "    return dicty\n",
    "\n",
    "\n",
    "# Микротест функции\n",
    "def tests_task3() -> None:\n",
    "    param_keys = ['a', 'b', 'c', 'e' ]\n",
    "    param_values = [1, 2, 3, 4]\n",
    "    result = {'a': 1, 'b': 2, 'c': 3, 'e': 4}\n",
    "    assert dict_maker(param_keys, param_values) == result\n",
    "\n",
    "\n",
    "tests_task3()\n",
    "\n",
    "# Проверка на хэшируемость для keys не нужна, т.к. ввод осуществляется\n",
    "# с помощью input(); если пытаться использовать функцию вне основного\n",
    "# блока кода (что вроде бы не предусматривается в задании),\n",
    "# static type checker (MyPy/Pyright) выделит ошибку при вызове функции\n",
    "keys = list(input().split())\n",
    "values = list(input().split())\n",
    "if len(keys) == len(values):\n",
    "    print(dict_maker(keys, values))"
   ]
  },
  {
   "cell_type": "markdown",
   "metadata": {
    "id": "L_w8H8i-fQcP"
   },
   "source": [
    "# Задание 4\n",
    "\n",
    "Напишите функцию(ии) для подсчета статистических параметров:\n",
    "*   Сумму\n",
    "*   Среднее арифметическое\n",
    "*   Медиану\n",
    "*   Моду\n",
    "\n",
    "\n",
    "*Запрещено:*\n",
    "\n",
    "*   sum()\n",
    "*   sorted()\n",
    "*   и других функции предоставляющих готовое решение задания\n",
    "\n",
    "Дано:\n",
    "\n",
    "```\n",
    "numbers = [1, 2, 2, 3, 4, 5, 6, 7, 8 ,9 ,10]\n",
    "\n",
    "```\n",
    "\n",
    "Вывод:\n",
    "```\n",
    "{'mean': 5.181818181818182, 'median': 5, 'mode': 2, 'sum': 57}\n",
    "```\n"
   ]
  },
  {
   "cell_type": "code",
   "execution_count": null,
   "metadata": {
    "id": "dW6jW_rjfuba"
   },
   "outputs": [],
   "source": [
    "class CentralTendencies(TypedDict):\n",
    "    mean: Union[int, float]\n",
    "    median: Union[int, float]\n",
    "    mode: Union[int, float]\n",
    "    sum: Union[int, float]\n",
    "\n",
    "\n",
    "def bubble_sort(sequence: Iterable[Union[int, float]]) -> list[Union[int, float]]:\n",
    "    \"\"\"\n",
    "    Неоптимизированная имплементация сортировки пузырьком.\n",
    "    :param sequence: Последовательность чисел\n",
    "    \"\"\"\n",
    "    sequence = list(sequence)\n",
    "\n",
    "    for i in range(len(sequence)-1):\n",
    "        for j in range(i, len(sequence)):\n",
    "            if sequence[j] < sequence[i]:\n",
    "                sequence[i], sequence[j] = sequence[j], sequence[i]\n",
    "    return sequence\n",
    "\n",
    "\n",
    "def sum_calc(sequence: Iterable[Union[int, float]]) -> Union[int, float]:\n",
    "    \"\"\"Вычисляет сумму элеменов в числовой последовательности\"\"\"\n",
    "    summy = 0\n",
    "    for element in sequence:\n",
    "        summy += element\n",
    "    return summy\n",
    "\n",
    "\n",
    "def mean_calc(sequence: Iterable[Union[int, float]]) -> Union[int, float]:\n",
    "    \"\"\"Вычисляет среднее арифметическое в числовой последовательности\"\"\"\n",
    "    return sum_calc(sequence) / len(sequence)\n",
    "\n",
    "\n",
    "def median_calc(sequence: Iterable[Union[int, float]]) -> Union[int, float]:\n",
    "    \"\"\"Вычисляет медиану в числовой последовательности\"\"\"\n",
    "    sequence = bubble_sort(sequence)\n",
    "    length = len(sequence)\n",
    "    if length % 2 != 0:\n",
    "        return sequence[length//2]\n",
    "\n",
    "    left_median, right_median = sequence[length//2], sequence[length//2+1]\n",
    "    return (left_median + right_median) / 2\n",
    "\n",
    "\n",
    "def mode_calc(sequence: Iterable[Union[int, float]]) -> Union[int, float]:\n",
    "    \"\"\"Вычисляет моду в числовой последовательности\"\"\"\n",
    "    counters = ([], [])\n",
    "    for i in range(len(sequence)):\n",
    "        element = sequence[i]\n",
    "        if element in counters[0]:\n",
    "            index = counters[0].index(element)\n",
    "            counters[1][index] += 1\n",
    "        else:\n",
    "            counters[0].append(element)\n",
    "            counters[1].append(0)\n",
    "\n",
    "    mode_index = counters[1].index(max(counters[1]))\n",
    "    return counters[0][mode_index]\n",
    "\n",
    "\n",
    "def stat_counter(sequence: Iterable[Union[int, float]]) -> CentralTendencies:\n",
    "    \"\"\"\n",
    "    Вычисляет метрики центрального положения для числовой последовательности\n",
    "    :returns: Словарь, в котором ключ - название метрики,\n",
    "    значение - значение метрики\n",
    "    \"\"\"\n",
    "    central_tendencies = CentralTendencies(sum=sum_calc(sequence),\n",
    "                                           mean=mean_calc(sequence),\n",
    "                                           median=median_calc(sequence),\n",
    "                                           mode=mode_calc(sequence))\n",
    "    return central_tendencies\n",
    "\n",
    "\n",
    "# Тест функции\n",
    "def tests_task4() -> None:\n",
    "    param = [1, 2, 2, 3, 4, 5, 6, 7, 8 ,9 ,10]\n",
    "    result = {'mean': 5.181818181818182, 'median': 5, 'mode': 2, 'sum': 57}\n",
    "    assert stat_counter(param) == result\n",
    "\n",
    "\n",
    "tests_task4()"
   ]
  },
  {
   "cell_type": "markdown",
   "metadata": {
    "id": "hZW0NZ7SgTcp"
   },
   "source": [
    "# Задание 5\n",
    "\n",
    "На ввод поступает строка символов. Строка состоит из слов, которые отделены друг от друга пробелами. Необходимо вывести самое длинное слово и его порядковый номер.\n",
    "\n",
    "*Запрещено:*\n",
    "\n",
    "*   len()\n",
    "\n",
    "Дано:\n",
    "\n",
    "```\n",
    "Страдание и боль всегда обязательны для широкого сознания и глубокого сердца.\n",
    "\n",
    "```\n",
    "\n",
    "Вывод:\n",
    "```\n",
    "Самое длинное слово с номером 5: обязательны\n",
    "```"
   ]
  },
  {
   "cell_type": "code",
   "execution_count": null,
   "metadata": {
    "colab": {
     "base_uri": "https://localhost:8080/",
     "height": 365
    },
    "executionInfo": {
     "elapsed": 3431,
     "status": "error",
     "timestamp": 1729598706097,
     "user": {
      "displayName": "_Griff __",
      "userId": "13893896625557140990"
     },
     "user_tz": -300
    },
    "id": "rC5DpHHLsDYp",
    "outputId": "795acc77-84e0-4411-8376-fcbd64068ee6"
   },
   "outputs": [
    {
     "ename": "KeyboardInterrupt",
     "evalue": "Interrupted by user",
     "output_type": "error",
     "traceback": [
      "\u001b[0;31m---------------------------------------------------------------------------\u001b[0m",
      "\u001b[0;31mKeyboardInterrupt\u001b[0m                         Traceback (most recent call last)",
      "\u001b[0;32m<ipython-input-57-59481640365b>\u001b[0m in \u001b[0;36m<cell line: 34>\u001b[0;34m()\u001b[0m\n\u001b[1;32m     32\u001b[0m \u001b[0;34m\u001b[0m\u001b[0m\n\u001b[1;32m     33\u001b[0m \u001b[0;34m\u001b[0m\u001b[0m\n\u001b[0;32m---> 34\u001b[0;31m \u001b[0mtext\u001b[0m \u001b[0;34m=\u001b[0m \u001b[0minput\u001b[0m\u001b[0;34m(\u001b[0m\u001b[0;34m\"Введите текст:\\n\"\u001b[0m\u001b[0;34m)\u001b[0m\u001b[0;34m\u001b[0m\u001b[0;34m\u001b[0m\u001b[0m\n\u001b[0m\u001b[1;32m     35\u001b[0m \u001b[0mthe_index\u001b[0m\u001b[0;34m,\u001b[0m \u001b[0mthe_longest_word\u001b[0m \u001b[0;34m=\u001b[0m \u001b[0mthe_longest_word_searcher\u001b[0m\u001b[0;34m(\u001b[0m\u001b[0mtext\u001b[0m\u001b[0;34m)\u001b[0m\u001b[0;34m\u001b[0m\u001b[0;34m\u001b[0m\u001b[0m\n\u001b[1;32m     36\u001b[0m \u001b[0mprint\u001b[0m\u001b[0;34m(\u001b[0m\u001b[0;34mf\"Самое длинное слово с номером {the_index}: {the_longest_word}\"\u001b[0m\u001b[0;34m)\u001b[0m\u001b[0;34m\u001b[0m\u001b[0;34m\u001b[0m\u001b[0m\n",
      "\u001b[0;32m/usr/local/lib/python3.10/dist-packages/ipykernel/kernelbase.py\u001b[0m in \u001b[0;36mraw_input\u001b[0;34m(self, prompt)\u001b[0m\n\u001b[1;32m    849\u001b[0m                 \u001b[0;34m\"raw_input was called, but this frontend does not support input requests.\"\u001b[0m\u001b[0;34m\u001b[0m\u001b[0;34m\u001b[0m\u001b[0m\n\u001b[1;32m    850\u001b[0m             )\n\u001b[0;32m--> 851\u001b[0;31m         return self._input_request(str(prompt),\n\u001b[0m\u001b[1;32m    852\u001b[0m             \u001b[0mself\u001b[0m\u001b[0;34m.\u001b[0m\u001b[0m_parent_ident\u001b[0m\u001b[0;34m,\u001b[0m\u001b[0;34m\u001b[0m\u001b[0;34m\u001b[0m\u001b[0m\n\u001b[1;32m    853\u001b[0m             \u001b[0mself\u001b[0m\u001b[0;34m.\u001b[0m\u001b[0m_parent_header\u001b[0m\u001b[0;34m,\u001b[0m\u001b[0;34m\u001b[0m\u001b[0;34m\u001b[0m\u001b[0m\n",
      "\u001b[0;32m/usr/local/lib/python3.10/dist-packages/ipykernel/kernelbase.py\u001b[0m in \u001b[0;36m_input_request\u001b[0;34m(self, prompt, ident, parent, password)\u001b[0m\n\u001b[1;32m    893\u001b[0m             \u001b[0;32mexcept\u001b[0m \u001b[0mKeyboardInterrupt\u001b[0m\u001b[0;34m:\u001b[0m\u001b[0;34m\u001b[0m\u001b[0;34m\u001b[0m\u001b[0m\n\u001b[1;32m    894\u001b[0m                 \u001b[0;31m# re-raise KeyboardInterrupt, to truncate traceback\u001b[0m\u001b[0;34m\u001b[0m\u001b[0;34m\u001b[0m\u001b[0m\n\u001b[0;32m--> 895\u001b[0;31m                 \u001b[0;32mraise\u001b[0m \u001b[0mKeyboardInterrupt\u001b[0m\u001b[0;34m(\u001b[0m\u001b[0;34m\"Interrupted by user\"\u001b[0m\u001b[0;34m)\u001b[0m \u001b[0;32mfrom\u001b[0m \u001b[0;32mNone\u001b[0m\u001b[0;34m\u001b[0m\u001b[0;34m\u001b[0m\u001b[0m\n\u001b[0m\u001b[1;32m    896\u001b[0m             \u001b[0;32mexcept\u001b[0m \u001b[0mException\u001b[0m \u001b[0;32mas\u001b[0m \u001b[0me\u001b[0m\u001b[0;34m:\u001b[0m\u001b[0;34m\u001b[0m\u001b[0;34m\u001b[0m\u001b[0m\n\u001b[1;32m    897\u001b[0m                 \u001b[0mself\u001b[0m\u001b[0;34m.\u001b[0m\u001b[0mlog\u001b[0m\u001b[0;34m.\u001b[0m\u001b[0mwarning\u001b[0m\u001b[0;34m(\u001b[0m\u001b[0;34m\"Invalid Message:\"\u001b[0m\u001b[0;34m,\u001b[0m \u001b[0mexc_info\u001b[0m\u001b[0;34m=\u001b[0m\u001b[0;32mTrue\u001b[0m\u001b[0;34m)\u001b[0m\u001b[0;34m\u001b[0m\u001b[0;34m\u001b[0m\u001b[0m\n",
      "\u001b[0;31mKeyboardInterrupt\u001b[0m: Interrupted by user"
     ]
    }
   ],
   "source": [
    "def the_longest_word_searcher(text: str) -> tuple[int, str]:\n",
    "    \"\"\"\n",
    "        Ищет самое длинную последовательность символов без пробелов, возращает\n",
    "        её номер и саму найденную последовательность\n",
    "        :param text: Последовательность символов\n",
    "    \"\"\"\n",
    "    # Из-за специфики подсчета длины слова, на неё могут повлиять\n",
    "    # примыкающие к слову запятые и точки, поэтому их нужно предварительно\n",
    "    # удалить.\n",
    "    text = text.replace(',.', \" \").split()\n",
    "    strings_seq = tuple(text)\n",
    "    word_lengths = []\n",
    "    for i in range(len(strings_seq)):\n",
    "        word = strings_seq[i]\n",
    "        length = 0\n",
    "        for letter in word:\n",
    "            length += 1\n",
    "        word_lengths.append((word, i, length))\n",
    "\n",
    "    word_lengths.sort(key=lambda t: t[2], reverse=True)\n",
    "    the_longest_word, word_number = word_lengths[0][0], word_lengths[0][1]+1\n",
    "    return word_number, the_longest_word\n",
    "\n",
    "\n",
    "# Тест функции на примере\n",
    "def tests_task5():\n",
    "    param = \"Страдание и боль всегда обязательны для широкого сознания и глубокого сердца.\"\n",
    "    result = (5, \"обязательны\")\n",
    "    assert the_longest_word_searcher(param) == result\n",
    "\n",
    "\n",
    "text = input(\"Введите текст:\\n\")\n",
    "the_index, the_longest_word = the_longest_word_searcher(text)\n",
    "print(f\"Самое длинное слово с номером {the_index}: {the_longest_word}\")"
   ]
  },
  {
   "cell_type": "markdown",
   "metadata": {
    "id": "k5BzJW5ZeaQN"
   },
   "source": [
    "# Задание 6\n",
    "\n",
    "Напишите программу, для управления оценками студентов, со следующими функциями:\n",
    "\n",
    "* Добавление информации о студенте и его оценках.\n",
    "* Подсчет среднего балла студента.\n",
    "* Получение списка всех студентов с их средними баллами.\n",
    "* Поиск студента по имени и вывод его оценок и среднего балла.\n",
    "\n",
    "\n",
    "\n"
   ]
  },
  {
   "cell_type": "code",
   "execution_count": null,
   "metadata": {
    "colab": {
     "base_uri": "https://localhost:8080/"
    },
    "executionInfo": {
     "elapsed": 2706,
     "status": "ok",
     "timestamp": 1729710766088,
     "user": {
      "displayName": "_Griff __",
      "userId": "13893896625557140990"
     },
     "user_tz": -300
    },
    "id": "cvhlltVbdyoL",
    "outputId": "f6d49bfe-d8c9-4f9c-e2f9-0729335680f8"
   },
   "outputs": [
    {
     "name": "stdout",
     "output_type": "stream",
     "text": [
      "ATTENTION: текущая версия скрипта не поддерживает добавление оценок студенту, который уже зарегистирован в системе.\n",
      "Вы авторизовались в системе STUDENTS' GRADES MANAGER - SGM.\n",
      "\n",
      "1. Добавить студента и его оценки.\n",
      "2. Посчитать средний балл студента.\n",
      "3. Получить список студентов и их средних оценок.\n",
      "4. Вывести оценки и средний балл студента по имени.\n",
      "5. Завершить работу скрипта.\n",
      "\n",
      "Напишите номер (без точки) одного из действий ниже:\n",
      "5\n"
     ]
    }
   ],
   "source": [
    "class Students(TypedDict):\n",
    "    name: str\n",
    "    grades: list[int]\n",
    "\n",
    "\n",
    "def student_grades_handler(grades_str_seq: Iterable[str]) -> list[int]:\n",
    "    \"\"\"\n",
    "    Преобразует строчное представление оценок студента в список оценок\n",
    "    :param grades_string: Массив строк с оценками студента\n",
    "    \"\"\"\n",
    "    return [int(grade) for grade in grades_str_seq]\n",
    "\n",
    "\n",
    "def calc_mean_grade(grades: Iterable[int]) -> float:\n",
    "    \"\"\"\n",
    "    Считает средний балл в массиве оценок\n",
    "    :param grades: Массив оценок\n",
    "    \"\"\"\n",
    "    return sum(grades) / len(grades)\n",
    "\n",
    "\n",
    "def validate_student_grades(grades: Iterable[str]) -> bool:\n",
    "    \"\"\"\n",
    "    Проверяет строку баллов на возможность преобразования к int и на отсутствие\n",
    "    в ней отрицательных значений.\n",
    "    :param grades: Массив строк оценок студента\n",
    "    \"\"\"\n",
    "    if all(grade.isalnum() and int(grade) >= 0 for grade in grades):\n",
    "        return True\n",
    "    return False\n",
    "\n",
    "\n",
    "# Микротесты\n",
    "def test1_task6() -> None:\n",
    "    param = '20', '50', '20', '100', '50'\n",
    "    result = [20, 50, 20, 100, 50]\n",
    "    assert student_grades_handler(param) == result\n",
    "\n",
    "\n",
    "def test2_task6() -> None:\n",
    "    param = 100, 50, 30, 100, 40\n",
    "    result = sum(param)/len(param)\n",
    "    assert calc_mean_grade(param) == result\n",
    "\n",
    "\n",
    "def test3_task6() -> None:\n",
    "    param = '0', '50', '10', '20', '40', '-1'\n",
    "    result = False\n",
    "    assert validate_student_grades(param) == result\n",
    "\n",
    "\n",
    "def test4_task6() -> None:\n",
    "    param = '80', '90', '50', '13', '100', '50'\n",
    "    result = True\n",
    "    assert validate_student_grades(param) == result\n",
    "\n",
    "\n",
    "def test5_task6() -> None:\n",
    "    param = '50', '13', '76', '100', '80'\n",
    "    meta_tmp = tuple(int(num) for num in param)\n",
    "    result = sum(meta_tmp)/len(meta_tmp)\n",
    "    assert calc_mean_grade(student_grades_handler(param)) == result\n",
    "\n",
    "\n",
    "def tests_task6() -> None:\n",
    "    \"\"\"Запускает тесты 1-5 функций программы.\"\"\"\n",
    "    test1_task6()\n",
    "    test2_task6()\n",
    "    test3_task6()\n",
    "    test4_task6()\n",
    "    test5_task6()\n",
    "\n",
    "\n",
    "tests_task6()\n",
    "\n",
    "AUTH_MSG = \"Вы авторизовались в системе STUDENTS' GRADES MANAGER - SGM.\\n\"\n",
    "WARNING = \"ATTENTION: текущая версия программы не поддерживает добавление оценок студенту, который уже зарегистирован в системе.\"\n",
    "INPUT_STUDENT_NAME = \"Введите фамилию и имя студента: \"\n",
    "INPUT_STUDENT_GRADES = \"Введите оценки студента (через пробел):\\n\"\n",
    "INPUT_ACTION = \"\\nНапишите номер (без точки) одного из действий ниже:\\n\"\n",
    "KEYBOARD_INTERRUPTION_MSG = \"Program was Ctrl-C by user.\"\n",
    "INVALID_ACTION_NUM = \"Действия с таким номером не существует.\"\n",
    "INVALID_STUDENT_FULLNAME = \"Вы не учите студента с такой фамилией и именем :(\"\n",
    "EXIT_MSG = \"Выполнение программы завершено.\"\n",
    "ACTIONS = (\"1. Добавить студента и его оценки.\",\n",
    "           \"2. Посчитать средний балл студента.\",\n",
    "           \"3. Получить список студентов и их средних оценок.\",\n",
    "           \"4. Вывести оценки и средний балл студента по имени.\",\n",
    "           \"5. Завершить работу скрипта.\")\n",
    "\n",
    "\n",
    "print(WARNING, AUTH_MSG, *ACTIONS, sep='\\n', end='\\n')\n",
    "\n",
    "students: Students = {}\n",
    "\n",
    "try:\n",
    "    while True:\n",
    "        action = input(INPUT_ACTION)\n",
    "        if action == \"1\":\n",
    "            student_fullname = input(INPUT_STUDENT_NAME)\n",
    "            student_string_grades = input(INPUT_STUDENT_GRADES).split()\n",
    "            if validate_student_grades(student_string_grades):\n",
    "                student_grades = student_grades_handler(student_string_grades)\n",
    "                students[student_fullname] = student_grades\n",
    "            else:\n",
    "                print(\"Вы ввели неверный формат оценок.\")\n",
    "\n",
    "        elif action == \"2\":\n",
    "            student_fullname = input(INPUT_STUDENT_NAME)\n",
    "            if student_fullname in students:\n",
    "                mean_grade = calc_mean_grade(students[student_fullname])\n",
    "                print(f\"Средний балл студента: {mean_grade}\")\n",
    "            else:\n",
    "                print(INVALID_STUDENT_FULLNAME)\n",
    "\n",
    "        elif action == \"3\":\n",
    "            temp = tuple((name, calc_mean_grade(students[name])) for name in students)\n",
    "            print(f\"ФИ студента\\tСредний балл\")\n",
    "            for fullname, mean_grade in temp:\n",
    "                print(f\"{fullname}\\t{mean_grade}\")\n",
    "\n",
    "        elif action == \"4\":\n",
    "            student_fullname = input(INPUT_STUDENT_NAME)\n",
    "            if student_fullname in students:\n",
    "                grades = students[student_fullname]\n",
    "                grades_str = tuple(str(grade) for grade in grades)\n",
    "                grades_repr = \" \".join(grades_str)\n",
    "                mean_grade = calc_mean_grade(students[student_fullname])\n",
    "\n",
    "                print(f\"Оценки: {grades_repr}\\nСредний балл: {mean_grade}\")\n",
    "            else:\n",
    "                print(INVALID_STUDENT_FULLNAME)\n",
    "        elif action == \"5\":\n",
    "            print(EXIT_MSG)\n",
    "            break\n",
    "\n",
    "        else:\n",
    "            print(INVALID_ACTION_NUM)\n",
    "except KeyboardInterrupt:\n",
    "    print(KEYBOARD_INTERRUPTION_MSG)"
   ]
  },
  {
   "cell_type": "markdown",
   "metadata": {
    "id": "iQ8Z-7PYgu1_"
   },
   "source": [
    "# Задание 7\n",
    "\n",
    "\n",
    "**Задача:**\n",
    "\n",
    "Создайте приложение-викторину с командной строкой, которое задает пользователям вопросы по различным темам и отслеживает их результаты.\n",
    "\n",
    "Ключевые особенности:\n",
    "\n",
    "*   Хранение данных о вопросах и ответах на них, а также баллов за каждый вопрос\n",
    "*   Реализуйте функцию для представления вопросов, принятия ответов пользователей и предоставления обратной связи о том, являются ли ответы правильными или неправильными.\n",
    "*  После завершения викторины отобразите общий балл пользователя из числа ответов на вопросы.\n",
    "*  Реализуйте функцию добавления нового вопроса\n",
    "*  Реализуйте функцию перемешивания вопросов, для отображения случайного вопроса\n"
   ]
  },
  {
   "cell_type": "code",
   "execution_count": 12,
   "metadata": {
    "executionInfo": {
     "elapsed": 357,
     "status": "ok",
     "timestamp": 1730131978465,
     "user": {
      "displayName": "_Griff __",
      "userId": "13893896625557140990"
     },
     "user_tz": -300
    },
    "id": "jnp0b3CsfRK3"
   },
   "outputs": [],
   "source": [
    "questions_db = {\n",
    "    \"AI и Data Science\": [(\n",
    "        \"Создатель архитектуры свёрточных нейросетей (CNN) - ?\",\n",
    "        (\n",
    "            \"Ян Лекун\",\n",
    "            \"Фрэнк Розенблатт\",\n",
    "            \"Джеффри Хинтон\",\n",
    "            \"Джон Хопфилд\"\n",
    "        ), 0, 100\n",
    "    ), (\n",
    "        \"Создатель первой модели искусственного нейрона (перцептрона) - ?\",\n",
    "        (\n",
    "            \"Ян Лекун\",\n",
    "            \"Фрэнк Розенблатт\",\n",
    "            \"Джеффри Хинтон\",\n",
    "            \"Уильям Госсет\"\n",
    "        ), 1, 100\n",
    "    ), (\n",
    "        \"Какой статистик скрывался под псевдонимом 'Стьюдент'?\",\n",
    "        (\n",
    "            \"Ян Лекун\",\n",
    "            \"Фрэнк Розенблатт\",\n",
    "            \"Джеффри Хинтон\",\n",
    "            \"Уильям Госсет\"\n",
    "        ), 3, 100\n",
    "    ), (\n",
    "        \"Кто получил нобелевскую премию по физике в 2024 году?\",\n",
    "        (\n",
    "            \"Ян Лекун\",\n",
    "            \"Фрэнк Розенблатт\",\n",
    "            \"Джеффри Хинтон\",\n",
    "            \"Уильям Госсет\"\n",
    "        ), 2, 100\n",
    "    )],\n",
    "    \"Языки\": [(\n",
    "        \"Создатель языка C++ - ?\",\n",
    "        (\n",
    "            \"Бьерн Страуструп\",\n",
    "            \"Гвидо ван Россум\",\n",
    "            \"Дональд Кнут\",\n",
    "            \"Юкихиро Мацумото\"\n",
    "        ), 0, 100\n",
    "    ), (\n",
    "        \"Создатель языка разметки TeX - ?\",\n",
    "        (\n",
    "            \"Бьерн Страуструп\",\n",
    "            \"Гвидо ван Россум\",\n",
    "            \"Дональд Кнут\",\n",
    "            \"Юкихиро Мацумото\"\n",
    "        ), 2, 100\n",
    "    ), (\n",
    "        \"Создатель языка Python - ?\",\n",
    "        (\n",
    "            \"Бьерн Страуструп\",\n",
    "            \"Гвидо ван Россум\",\n",
    "            \"Дональд Кнут\",\n",
    "            \"Юкихиро Мацумото\"\n",
    "        ), 1, 100\n",
    "    ), (\n",
    "        \"Создатель языка Ruby - ?\",\n",
    "        (\n",
    "            \"Бьерн Страуструп\",\n",
    "            \"Гвидо ван Россум\",\n",
    "            \"Дональд Кнут\",\n",
    "            \"Юкихиро Мацумото\"\n",
    "        ), 3, 100\n",
    "    )]\n",
    "}\n",
    "\n",
    "actions = (\n",
    "    \"Начать викторину\",\n",
    "    \"Добавить тему\",\n",
    "    \"Добавить вопрос в тему\",\n",
    "    \"Выбрать случайный вопрос\",\n",
    "    \"Закрыть программу\"\n",
    ")"
   ]
  },
  {
   "cell_type": "code",
   "execution_count": 18,
   "metadata": {
    "colab": {
     "base_uri": "https://localhost:8080/",
     "height": 575
    },
    "executionInfo": {
     "elapsed": 3889,
     "status": "error",
     "timestamp": 1730133689594,
     "user": {
      "displayName": "_Griff __",
      "userId": "13893896625557140990"
     },
     "user_tz": -300
    },
    "id": "DhxyYwHwh2V4",
    "outputId": "b02184c8-03b6-431b-f8c4-bdc934a04ee6"
   },
   "outputs": [
    {
     "name": "stdout",
     "output_type": "stream",
     "text": [
      "Вы авторизовались в сервисе 'Виртуальная викторина'.\n",
      "\n",
      "0. Начать викторину\n",
      "1. Добавить тему\n",
      "2. Добавить вопрос в тему\n",
      "3. Выбрать случайный вопрос\n",
      "4. Закрыть программу\n",
      "Выберите действие (без точки): 0\n",
      "Выберите тему вопросов (без точки):\n",
      "0. AI и Data Science\n",
      "1. Языки\n",
      "2. биксы\n",
      "Введите номер темы:\n",
      "0\n"
     ]
    },
    {
     "ename": "KeyError",
     "evalue": "0",
     "output_type": "error",
     "traceback": [
      "\u001b[0;31m---------------------------------------------------------------------------\u001b[0m",
      "\u001b[0;31mKeyError\u001b[0m                                  Traceback (most recent call last)",
      "\u001b[0;32m<ipython-input-18-6e2ed1c43172>\u001b[0m in \u001b[0;36m<cell line: 87>\u001b[0;34m()\u001b[0m\n\u001b[1;32m     93\u001b[0m \u001b[0;34m\u001b[0m\u001b[0m\n\u001b[1;32m     94\u001b[0m     \u001b[0;32mif\u001b[0m \u001b[0maction\u001b[0m \u001b[0;34m==\u001b[0m \u001b[0;34m\"0\"\u001b[0m\u001b[0;34m:\u001b[0m  \u001b[0;31m# Начать викторину\u001b[0m\u001b[0;34m\u001b[0m\u001b[0;34m\u001b[0m\u001b[0m\n\u001b[0;32m---> 95\u001b[0;31m         \u001b[0mstart_quiz\u001b[0m\u001b[0;34m(\u001b[0m\u001b[0;34m)\u001b[0m\u001b[0;34m\u001b[0m\u001b[0;34m\u001b[0m\u001b[0m\n\u001b[0m\u001b[1;32m     96\u001b[0m     \u001b[0;32melif\u001b[0m \u001b[0maction\u001b[0m \u001b[0;34m==\u001b[0m \u001b[0;34m\"1\"\u001b[0m\u001b[0;34m:\u001b[0m  \u001b[0;31m# Добавить тему\u001b[0m\u001b[0;34m\u001b[0m\u001b[0;34m\u001b[0m\u001b[0m\n\u001b[1;32m     97\u001b[0m         \u001b[0mtopic_name\u001b[0m \u001b[0;34m=\u001b[0m \u001b[0minput\u001b[0m\u001b[0;34m(\u001b[0m\u001b[0;34m'Введите название темы, которую хотите создать:\\n'\u001b[0m\u001b[0;34m)\u001b[0m\u001b[0;34m\u001b[0m\u001b[0;34m\u001b[0m\u001b[0m\n",
      "\u001b[0;32m<ipython-input-18-6e2ed1c43172>\u001b[0m in \u001b[0;36mstart_quiz\u001b[0;34m()\u001b[0m\n\u001b[1;32m     40\u001b[0m \u001b[0;34m\u001b[0m\u001b[0m\n\u001b[1;32m     41\u001b[0m     \u001b[0;32mtry\u001b[0m\u001b[0;34m:\u001b[0m\u001b[0;34m\u001b[0m\u001b[0;34m\u001b[0m\u001b[0m\n\u001b[0;32m---> 42\u001b[0;31m         \u001b[0mtopic\u001b[0m \u001b[0;34m=\u001b[0m \u001b[0mquestions_db\u001b[0m\u001b[0;34m[\u001b[0m\u001b[0mint\u001b[0m\u001b[0;34m(\u001b[0m\u001b[0minput\u001b[0m\u001b[0;34m(\u001b[0m\u001b[0;34m'Введите номер темы:\\n'\u001b[0m\u001b[0;34m)\u001b[0m\u001b[0;34m)\u001b[0m\u001b[0;34m]\u001b[0m\u001b[0;34m\u001b[0m\u001b[0;34m\u001b[0m\u001b[0m\n\u001b[0m\u001b[1;32m     43\u001b[0m     \u001b[0;32mexcept\u001b[0m \u001b[0mKeyboardInterrupt\u001b[0m\u001b[0;34m:\u001b[0m\u001b[0;34m\u001b[0m\u001b[0;34m\u001b[0m\u001b[0m\n\u001b[1;32m     44\u001b[0m         \u001b[0mprint\u001b[0m\u001b[0;34m(\u001b[0m\u001b[0;34m\"Script was Ctrl-C by user\"\u001b[0m\u001b[0;34m)\u001b[0m\u001b[0;34m\u001b[0m\u001b[0;34m\u001b[0m\u001b[0m\n",
      "\u001b[0;31mKeyError\u001b[0m: 0"
     ]
    }
   ],
   "source": [
    "from typing import Iterable, Any, Union, TypedDict, TypeAlias\n",
    "import random\n",
    "\n",
    "# Если пока что нельзя использовать ООП, можно обходиться TypeAlias.\n",
    "# С точки зрения проектирования архитектуры программы TypeAlias'ы можно назвать\n",
    "# аналогами классов, поэтому объявляю их в начале кода\n",
    "ScoreImpact: TypeAlias = int\n",
    "CorrectAnswerIndex: TypeAlias = int\n",
    "Options: TypeAlias = list[str]\n",
    "Question: TypeAlias = tuple[str, Options, CorrectAnswerIndex, ScoreImpact]\n",
    "\n",
    "\n",
    "def get_user_answer(answer_index: int, score_impact: int) -> int:\n",
    "    \"\"\"\n",
    "    Возвращает количество баллов за ответ пользователя.\n",
    "    :param answer_index: Индекс правильного ответа в коллекции options\n",
    "    :param score_impact: Количество баллов за правильный ответ на вопрос\n",
    "    \"\"\"\n",
    "    while True:\n",
    "        try:\n",
    "            user_answer = input(\"Введите номер варианта ответа (без точки): \")\n",
    "            if int(user_answer) == answer_index:\n",
    "                print(\"Вы ответили правильно!\")\n",
    "                return score_impact\n",
    "            print(\"Вы ответили неправильно :(\")\n",
    "            return 0\n",
    "        except KeyboardInterrupt:\n",
    "            print(\"Script was Ctrl-C by user\")\n",
    "        # Если пользователь ввел то, что нельзя преобразовать к int\n",
    "        except ValueError:\n",
    "            print(\"Вы ввели некорректный формат ответа.\")\n",
    "\n",
    "\n",
    "def start_quiz() -> None:\n",
    "    \"\"\"Запускает скрипт викторины.\"\"\"\n",
    "    print(\"Выберите тему вопросов (без точки):\")\n",
    "    topics_indexed = enumerate(questions_db)\n",
    "    for i, topic in topics_indexed:\n",
    "        print(f\"{i}. {topic}\")\n",
    "\n",
    "    try:\n",
    "        topic = questions_db[int(input('Введите номер темы:\\n'))]\n",
    "    except KeyboardInterrupt:\n",
    "        print(\"Script was Ctrl-C by user\")\n",
    "\n",
    "    else:\n",
    "        score = 0\n",
    "        for text, options, answer_index, score_impact in questions_db[topics]:\n",
    "            print(f\"\\n{text}\")\n",
    "            options_indexed = enumerate(options)\n",
    "            for i, option in options_indexed:\n",
    "                print(f\"{i}. {option}\")\n",
    "            score += get_user_answer(answer_index, score_impact)\n",
    "\n",
    "        print(f\"\\nВаш итоговый балл: {score}\")\n",
    "\n",
    "\n",
    "def create_question() -> None:\n",
    "    \"\"\"Запускает скрипт создания вопроса.\"\"\"\n",
    "    topic_name = input('Введите название темы, в котоурю хотите добавить вопрос:\\n')\n",
    "    if topic_name not in questions_db:\n",
    "        print('Такой темы нет в базе.')\n",
    "    else:\n",
    "        description = input(\"Введите формулировку вопроса:\\n\")\n",
    "        options = input(\"Введите варианты ответа (разделяя их пробелом, точкой с запятой и пробелом: ' ; ')\\n\").split(' ; ')\n",
    "        try:\n",
    "            answer_index = int(input(\"Введите индекс правильного ответа из вариантов выше: \"))\n",
    "            if answer_index in range(len(options)):\n",
    "                impact = int(input(\"Введите количетсво за верный ответ на вопрос: \"))\n",
    "            else:\n",
    "                print('Вы ввели неверное значение индекса.')\n",
    "        except ValueError:  # answer_index нельзя привести к int\n",
    "            print(\"Вы ввели информацию в неверном формате.\")\n",
    "\n",
    "        else:\n",
    "            question = (description, options, answer_index, impact)\n",
    "            questions_db[topic_name].append(question)\n",
    "            print('Ввод вопроса завершен. Спасибо!\\n')\n",
    "\n",
    "\n",
    "GET_ACTION_MSG = \"Выберите действие (без точки): \"\n",
    "\n",
    "print(\"Вы авторизовались в сервисе 'Виртуальная викторина'.\\n\")\n",
    "for i, action in enumerate(actions):\n",
    "    print(f\"{i}. {action}\")\n",
    "\n",
    "while True:\n",
    "    try:\n",
    "        action = input(GET_ACTION_MSG)\n",
    "    except KeyboardInterrupt:\n",
    "        print(\"Script was Ctrl-C by user\")\n",
    "        break\n",
    "\n",
    "    if action == \"0\":  # Начать викторину\n",
    "        start_quiz()\n",
    "    elif action == \"1\":  # Добавить тему\n",
    "        topic_name = input('Введите название темы, которую хотите создать:\\n')\n",
    "        if topic_name in questions_db:\n",
    "            print('Эта тема уже есть в базе.')\n",
    "        else:\n",
    "            questions_db[topic_name] = []\n",
    "            print(f\"Тема '{topic_name}' добавлена в базу.\")\n",
    "    elif action == \"2\":  # Добавить вопрос в тему\n",
    "        create_question()\n",
    "    elif action == \"3\":  # Выбрать случайный вопрос\n",
    "        questions = []\n",
    "        for topic in questions_db:\n",
    "            questions.extend(questions_db[topic])\n",
    "\n",
    "        score = 0\n",
    "        text, options, answer_index, score_impact = random.choice(questions)\n",
    "        print(f\"\\n{text}\")\n",
    "        options_indexed = enumerate(options)\n",
    "        for i, option in options_indexed:\n",
    "            print(f\"{i}. {option}\")\n",
    "        score += get_user_answer(answer_index, score_impact)\n",
    "\n",
    "        print(f\"\\nВаш итоговый балл: {score}\")\n",
    "\n",
    "    elif action == \"4\":  # Закрыть программу\n",
    "        print(\"Программа завершена.\")\n",
    "        break\n",
    "    else:\n",
    "        print(\"Действия с таким номером нет.\")"
   ]
  }
 ],
 "metadata": {
  "colab": {
   "provenance": [
    {
     "file_id": "1bbYGdWi_dKiB0HoLFBXxshe_0yemJtea",
     "timestamp": 1729590025164
    }
   ]
  },
  "kernelspec": {
   "display_name": "Python 3 (ipykernel)",
   "language": "python",
   "name": "python3"
  },
  "language_info": {
   "codemirror_mode": {
    "name": "ipython",
    "version": 3
   },
   "file_extension": ".py",
   "mimetype": "text/x-python",
   "name": "python",
   "nbconvert_exporter": "python",
   "pygments_lexer": "ipython3",
   "version": "3.12.5"
  }
 },
 "nbformat": 4,
 "nbformat_minor": 4
}
