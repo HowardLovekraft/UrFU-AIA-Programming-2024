{
 "cells": [
  {
   "cell_type": "markdown",
   "metadata": {
    "id": "8hJfL9b2l439"
   },
   "source": [
    "ФИО: Холкин Николай Алексеевич"
   ]
  },
  {
   "cell_type": "markdown",
   "metadata": {
    "id": "weOtPwPQmgpD"
   },
   "source": [
    "# Дисклеймер"
   ]
  },
  {
   "cell_type": "markdown",
   "metadata": {
    "id": "LznB3uscmjDa"
   },
   "source": [
    "В данной практике вам необходимо применить все ваши знания по темам:\n",
    "\n",
    "- Функции\n",
    "- Словари\n",
    "- Списки\n",
    "- Множества\n",
    "- Условные конструкции\n",
    "- Запросы\n",
    "\n",
    "и все что было изучено на прошлых практических занятиях\n",
    "\n",
    "В каждом задании кратко описаны функции, которые необходимо реализовать, детали реализации вы должны продумать самостоятельно"
   ]
  },
  {
   "cell_type": "markdown",
   "metadata": {
    "id": "7nSJIqkTvC_C"
   },
   "source": [
    "# Задание 0"
   ]
  },
  {
   "cell_type": "markdown",
   "metadata": {
    "id": "exACjTiVvGUe"
   },
   "source": [
    "Создайте функцию по нахождению уникальных элементов из двух списков\n",
    "\n",
    "\n",
    "\n",
    "```\n",
    "a = [1, 2, 3, 4]\n",
    "b = [3, 4, 5, 6]\n",
    "```\n",
    "\n"
   ]
  },
  {
   "cell_type": "code",
   "execution_count": null,
   "metadata": {
    "id": "pek_myOBulAe"
   },
   "outputs": [],
   "source": [
    "from typing import Any\n",
    "\n",
    "def set_from_two_seqs(a: list[Any], b: list[Any]) -> set[Any]:\n",
    "    \"\"\"\n",
    "    Возвращает множество уникальных элементов из двух списков\n",
    "    :param a: Первый список\n",
    "    :param b: Второй список\n",
    "    \"\"\"\n",
    "    # В контексте несложной функции, которая работает с двумя абстрактными\n",
    "    # списками, которые сами по себе не несут какой-то логической\n",
    "    # нагрузки, уместно назвать параметры именами a и b\n",
    "    # (как это сделано в библиотеке math, например)\n",
    "\n",
    "    # Добавть проверку на hashable a и b\n",
    "    return set(a) | set(b)\n",
    "\n",
    "\n",
    "# Микротесты\n",
    "def tests_task0() -> None:\n",
    "    assert set_from_two_seqs([1, 2, 3], [3, 4, 5]) == {1, 2, 3, 4, 5}\n",
    "    assert set_from_two_seqs([1, 1, 1], [1, 2, 3]) == {1, 2, 3}\n",
    "\n",
    "tests_task0()"
   ]
  },
  {
   "cell_type": "markdown",
   "metadata": {
    "id": "SVWNlBALpCNo"
   },
   "source": [
    "# Задание 1"
   ]
  },
  {
   "cell_type": "markdown",
   "metadata": {
    "id": "RcKA-VEqpC7f"
   },
   "source": [
    "Симулятор виртуального питомца\n",
    "\n",
    "Цель: создать виртуальный симулятор домашних животных, в котором пользователи смогут заводить питомцев и ухаживать за ними.\n",
    "\n",
    "Требования:\n",
    "\n",
    "- Функция для усыновления питомца (имя, тип, возраст).\n",
    "- Функция для того, чтобы покормить питомца, поиграть с ним или уложить его спать.\n",
    "- Функция для отображения состояния питомца (голод, радость, энергия)."
   ]
  },
  {
   "cell_type": "code",
   "execution_count": null,
   "metadata": {
    "colab": {
     "base_uri": "https://localhost:8080/",
     "height": 1000
    },
    "executionInfo": {
     "elapsed": 40476,
     "status": "error",
     "timestamp": 1731410657384,
     "user": {
      "displayName": "_Griff __",
      "userId": "13893896625557140990"
     },
     "user_tz": -300
    },
    "id": "hE7mF-HXpJLO",
    "outputId": "c9149b53-6306-4a43-f5ab-8b9d05231a4c"
   },
   "outputs": [
    {
     "name": "stdout",
     "output_type": "stream",
     "text": [
      "Вы авторизовались в сервисе \"Я.Тамагочи\". Список доступных действий:\n",
      "0. Усыновить питомца\n",
      "1. Покормить питомца\n",
      "2. Обнять питомца\n",
      "3. Уложить питомца спать\n",
      "4. Посмотреть на показатели питомца\n",
      "5. Закрыть Я.Тамагочи\n",
      "Введите номер действия (без точки): 0\n",
      "Введите имя питомца:\n",
      "Гав\n",
      "Введите тип питомца:\n",
      "Кот\n",
      "Введите возраст питомца:\n",
      "3\n",
      "Проверим ваши данные:\n",
      "Имя: Гав\n",
      "Тип: Кот\n",
      "Возраст: 3.\n",
      "Введите 1, чтобы усыновить питомца, или другое значение, чтобы удалить форму на усыновление.\n",
      "1\n",
      "Введите номер действия (без точки): 4\n",
      "Введите имя питомца: \n",
      "- Гав\n",
      "Гав\n",
      "Имя: Гав\n",
      "Тип: Кот\n",
      "Возраст: 3\n",
      "Голод:50/100Радость: 50/100Энергия: 50/100\n",
      "Введите номер действия (без точки): 1\n",
      "Введите имя питомца: \n",
      "- Гав\n",
      "Гав\n",
      "Введите номер действия (без точки): 3\n",
      "Введите имя питомца: \n",
      "- Гав\n",
      "Гав\n",
      "Введите номер действия (без точки): 4\n",
      "Введите имя питомца: \n",
      "- Гав\n",
      "Гав\n",
      "Имя: Гав\n",
      "Тип: Кот\n",
      "Возраст: 3\n",
      "Голод:100/100Радость: 50/100Энергия: 100/100\n"
     ]
    },
    {
     "ename": "KeyboardInterrupt",
     "evalue": "Interrupted by user",
     "output_type": "error",
     "traceback": [
      "\u001b[0;31m---------------------------------------------------------------------------\u001b[0m",
      "\u001b[0;31mKeyboardInterrupt\u001b[0m                         Traceback (most recent call last)",
      "\u001b[0;32m<ipython-input-15-6414a72a83df>\u001b[0m in \u001b[0;36m<cell line: 67>\u001b[0;34m()\u001b[0m\n\u001b[1;32m     66\u001b[0m \u001b[0;34m\u001b[0m\u001b[0m\n\u001b[1;32m     67\u001b[0m \u001b[0;32mwhile\u001b[0m \u001b[0;32mTrue\u001b[0m\u001b[0;34m:\u001b[0m\u001b[0;34m\u001b[0m\u001b[0;34m\u001b[0m\u001b[0m\n\u001b[0;32m---> 68\u001b[0;31m     \u001b[0maction\u001b[0m \u001b[0;34m=\u001b[0m \u001b[0minput\u001b[0m\u001b[0;34m(\u001b[0m\u001b[0;34m'Введите номер действия (без точки): '\u001b[0m\u001b[0;34m)\u001b[0m\u001b[0;34m\u001b[0m\u001b[0;34m\u001b[0m\u001b[0m\n\u001b[0m\u001b[1;32m     69\u001b[0m     \u001b[0;32mif\u001b[0m \u001b[0maction\u001b[0m \u001b[0;34m==\u001b[0m \u001b[0;34m'0'\u001b[0m\u001b[0;34m:\u001b[0m  \u001b[0;31m# Усыновить питомца\u001b[0m\u001b[0;34m\u001b[0m\u001b[0;34m\u001b[0m\u001b[0m\n\u001b[1;32m     70\u001b[0m         \u001b[0mpet_name\u001b[0m \u001b[0;34m=\u001b[0m \u001b[0minput\u001b[0m\u001b[0;34m(\u001b[0m\u001b[0;34m'Введите имя питомца:\\n'\u001b[0m\u001b[0;34m)\u001b[0m\u001b[0;34m\u001b[0m\u001b[0;34m\u001b[0m\u001b[0m\n",
      "\u001b[0;32m/usr/local/lib/python3.10/dist-packages/ipykernel/kernelbase.py\u001b[0m in \u001b[0;36mraw_input\u001b[0;34m(self, prompt)\u001b[0m\n\u001b[1;32m    849\u001b[0m                 \u001b[0;34m\"raw_input was called, but this frontend does not support input requests.\"\u001b[0m\u001b[0;34m\u001b[0m\u001b[0;34m\u001b[0m\u001b[0m\n\u001b[1;32m    850\u001b[0m             )\n\u001b[0;32m--> 851\u001b[0;31m         return self._input_request(str(prompt),\n\u001b[0m\u001b[1;32m    852\u001b[0m             \u001b[0mself\u001b[0m\u001b[0;34m.\u001b[0m\u001b[0m_parent_ident\u001b[0m\u001b[0;34m,\u001b[0m\u001b[0;34m\u001b[0m\u001b[0;34m\u001b[0m\u001b[0m\n\u001b[1;32m    853\u001b[0m             \u001b[0mself\u001b[0m\u001b[0;34m.\u001b[0m\u001b[0m_parent_header\u001b[0m\u001b[0;34m,\u001b[0m\u001b[0;34m\u001b[0m\u001b[0;34m\u001b[0m\u001b[0m\n",
      "\u001b[0;32m/usr/local/lib/python3.10/dist-packages/ipykernel/kernelbase.py\u001b[0m in \u001b[0;36m_input_request\u001b[0;34m(self, prompt, ident, parent, password)\u001b[0m\n\u001b[1;32m    893\u001b[0m             \u001b[0;32mexcept\u001b[0m \u001b[0mKeyboardInterrupt\u001b[0m\u001b[0;34m:\u001b[0m\u001b[0;34m\u001b[0m\u001b[0;34m\u001b[0m\u001b[0m\n\u001b[1;32m    894\u001b[0m                 \u001b[0;31m# re-raise KeyboardInterrupt, to truncate traceback\u001b[0m\u001b[0;34m\u001b[0m\u001b[0;34m\u001b[0m\u001b[0m\n\u001b[0;32m--> 895\u001b[0;31m                 \u001b[0;32mraise\u001b[0m \u001b[0mKeyboardInterrupt\u001b[0m\u001b[0;34m(\u001b[0m\u001b[0;34m\"Interrupted by user\"\u001b[0m\u001b[0;34m)\u001b[0m \u001b[0;32mfrom\u001b[0m \u001b[0;32mNone\u001b[0m\u001b[0;34m\u001b[0m\u001b[0;34m\u001b[0m\u001b[0m\n\u001b[0m\u001b[1;32m    896\u001b[0m             \u001b[0;32mexcept\u001b[0m \u001b[0mException\u001b[0m \u001b[0;32mas\u001b[0m \u001b[0me\u001b[0m\u001b[0;34m:\u001b[0m\u001b[0;34m\u001b[0m\u001b[0;34m\u001b[0m\u001b[0m\n\u001b[1;32m    897\u001b[0m                 \u001b[0mself\u001b[0m\u001b[0;34m.\u001b[0m\u001b[0mlog\u001b[0m\u001b[0;34m.\u001b[0m\u001b[0mwarning\u001b[0m\u001b[0;34m(\u001b[0m\u001b[0;34m\"Invalid Message:\"\u001b[0m\u001b[0;34m,\u001b[0m \u001b[0mexc_info\u001b[0m\u001b[0;34m=\u001b[0m\u001b[0;32mTrue\u001b[0m\u001b[0;34m)\u001b[0m\u001b[0;34m\u001b[0m\u001b[0;34m\u001b[0m\u001b[0m\n",
      "\u001b[0;31mKeyboardInterrupt\u001b[0m: Interrupted by user"
     ]
    }
   ],
   "source": [
    "from typing import TypedDict, TypeAlias, Optional\n",
    "from dataclasses import dataclass\n",
    "\n",
    "class PetStats(TypedDict):\n",
    "    name: str\n",
    "    # использован underscore, т.к. идет конфликт с одноименной функцией\n",
    "    type_: str\n",
    "    age: int\n",
    "    hungry: int\n",
    "    happiness: int\n",
    "    energy: int\n",
    "\n",
    "\n",
    "PetName: TypeAlias = str\n",
    "\n",
    "\n",
    "def get_valid_points() -> int:\n",
    "    \"\"\"\n",
    "    Получает валидные значения points (числа в диапазоне от 1 до 100).\n",
    "    \"\"\"\n",
    "    while True:\n",
    "        try:\n",
    "            points = int(input('Введите количество очков: '))\n",
    "        except ValueError:\n",
    "            print('Вы ввели неверный формат очков. ')\n",
    "        if 0 < points <= 100:\n",
    "            return points\n",
    "\n",
    "def select_pet(pets: dict[PetName, PetStats]) -> Optional[PetStats]:\n",
    "    \"\"\"\n",
    "    Выбирает питомца из списка питомцев.\n",
    "    :param pets: Экземпляр словара pets\n",
    "    \"\"\"\n",
    "    print('Введите имя питомца: ')\n",
    "    if len(pets) > 0:\n",
    "        for pet in pets:\n",
    "            print(f'- {pet}')\n",
    "\n",
    "        pet_name = input()\n",
    "        if pet_name in pets:\n",
    "            return pets[pet_name]\n",
    "        else:\n",
    "            print('Питомца с таким именем нет в списке')\n",
    "    return None\n",
    "\n",
    "\n",
    "def care_pet(pets: dict[PetName, PetStats], need: str) -> None:\n",
    "    pet = select_pet(pets)\n",
    "    if pet is not None:\n",
    "        pet[need] = 100\n",
    "\n",
    "\n",
    "OPERATIONS = (\n",
    "    'Усыновить питомца',\n",
    "    'Покормить питомца',\n",
    "    'Обнять питомца',\n",
    "    'Уложить питомца спать',\n",
    "    'Посмотреть на показатели питомца',\n",
    "    'Закрыть Я.Тамагочи'\n",
    ")\n",
    "ENUM_OPERATIONS = tuple(f'{num}. {oper}' for num, oper in enumerate(OPERATIONS))\n",
    "pets = {}\n",
    "\n",
    "print('Вы авторизовались в сервисе \"Я.Тамагочи\". Список доступных действий:',\n",
    "      *ENUM_OPERATIONS, sep='\\n')\n",
    "\n",
    "while True:\n",
    "    action = input('Введите номер действия (без точки): ')\n",
    "    if action == '0':  # Усыновить питомца\n",
    "        pet_name = input('Введите имя питомца:\\n')\n",
    "        pet_type = input('Введите тип питомца:\\n')\n",
    "        pet_age = input('Введите возраст питомца:\\n')\n",
    "        adopt_checkup_list = (pet_name, pet_type, pet_age)\n",
    "        print(f'Проверим ваши данные:\\nИмя: {pet_name}\\nТип: {pet_type}\\n',\n",
    "              f'Возраст: {pet_age}.\\nВведите 1, чтобы усыновить питомца, или ',\n",
    "               'другое значение, чтобы удалить форму на усыновление.', sep='')\n",
    "        acception = input()\n",
    "        if acception == '1':\n",
    "            pets[pet_name] = {'name': pet_name,\n",
    "                              'type_': pet_type,\n",
    "                              'age': pet_age,\n",
    "                              'hungry': 50,\n",
    "                              'happiness': 50,\n",
    "                              'energy': 50}\n",
    "\n",
    "    elif action == '1':  # Покормить\n",
    "        care_pet(pets, 'hungry')\n",
    "    elif action == '2':  # Обнять\n",
    "        care_pet(pets, 'happiness')\n",
    "    elif action == '3':  # Уложить спать\n",
    "        care_pet(pets, 'energy')\n",
    "\n",
    "    elif action == '4':  # Показатели питомца\n",
    "        pet = select_pet(pets)\n",
    "        if pet is not None:\n",
    "            pet_stats = f'Имя: {pet[\"name\"]}\\nТип: {pet[\"type_\"]}\\n' + \\\n",
    "                        f'Возраст: {pet[\"age\"]}\\nГолод:{pet[\"hungry\"]}/100' + \\\n",
    "                        f'\\nРадость: {pet[\"happiness\"]}/100\\n' + \\\n",
    "                        f'Энергия: {pet[\"energy\"]}/100'\n",
    "            print(pet_stats)\n",
    "\n",
    "    elif action == '5':  # Ctrl-C\n",
    "        print('Не забудьте ввести промокод TAMAGOCHI при заказе еды в Яндекс Маркете!')\n",
    "        break\n",
    "\n",
    "    else:\n",
    "        print('Вы ввели неправильный номер действия.')"
   ]
  },
  {
   "cell_type": "markdown",
   "metadata": {
    "id": "qZ7qFQnmssNd"
   },
   "source": [
    "# Задание 2"
   ]
  },
  {
   "cell_type": "markdown",
   "metadata": {
    "id": "UaccTe7ltNvg"
   },
   "source": [
    "Рыцарь и дракон\n",
    "\n",
    "Цель: создать небольшую игру, в которой вам необходимо играть за рыцаря и сразиться с драконом\n",
    "\n",
    "Требования:\n",
    "\n",
    "- Создание персонажа (имя, информация о доспехах, оружии, урон, здоровье)\n",
    "- Управление персонажем и мини сюжет\n",
    "- Создание дракона (Имя, информация о здоровье и уроне)\n",
    "- Боевая система (нанесение и получение урона, урон должен быть случайным в заданном диапазоне)\n",
    "- Реализовать бой между драконом и рыцарем"
   ]
  },
  {
   "cell_type": "code",
   "execution_count": 22,
   "metadata": {
    "colab": {
     "base_uri": "https://localhost:8080/"
    },
    "executionInfo": {
     "elapsed": 6248,
     "status": "ok",
     "timestamp": 1731877383678,
     "user": {
      "displayName": "_Griff __",
      "userId": "13893896625557140990"
     },
     "user_tz": -300
    },
    "id": "LCcxp5Q0srjY",
    "outputId": "f8ce88b9-4e3b-4948-f21b-88697bafbec2"
   },
   "outputs": [
    {
     "name": "stdout",
     "output_type": "stream",
     "text": [
      "Вы авторизовались в Симуляторе битвы рыцаря и дракона.\n",
      "Если скрипт показывает нумерованный список, вам нужно ввести лишь номер (т.е. без точки).\n",
      "Введите имя героя: Маркус\n",
      "Вы пробираетесь по лесу в сторону луча света.\n",
      "Цель всего вашего пути - спасение Принцессы из заточения в башне, которую\n",
      "охраняет Дракон. На пути вы встречаете милого зайца.\n",
      "Он навевает вам воспоминания о вашем отрочестве - вы... (выбор доспеха)\n",
      "1.были бродягой и воровали.\n",
      "2.были подмастерьем кузнеца и собирали доспехи.\n",
      "3.выросли в тренировочном лагере воинов.\n",
      "Введите номер: \n",
      "Введите корректный номер варианта.\n",
      "Введите номер: 2\n",
      "Пробираясь дальше по лесу, вы замечаете деревянный монумент куба d20.\n",
      "Вы вспоминаете лучшие годы юности - вы...\n",
      "1.играли с приятелями в дартс на деньги.\n",
      "2.учились фехтовальному делу.\n",
      "3.работали лесорубом.\n",
      "Введите номер: 2\n",
      "Наконец вы замечаете очертания башни. Ваш заклятый враг - Дракон. Вы пытаетесь\n",
      "рассмотреть цвет его шкуры и видите, что она ...\n",
      "1.зеленая.\n",
      "2.переливается синим цветом.\n",
      "3.объята красным пламенем.\n",
      "Введите номер: 2\n",
      "Да начнется битва!\n",
      "\n",
      "Ксилзри наносит 11 урона. Маркус наносит 11 урона.\n",
      "Ксилзри наносит 11 урона. Маркус наносит 14 урона.\n",
      "Ксилзри наносит 9 урона. Маркус наносит 11 урона.\n",
      "Ксилзри наносит 11 урона. Маркус наносит 12 урона.\n",
      "Ксилзри наносит 10 урона. Маркус наносит 14 урона.\n",
      "Ксилзри наносит 12 урона. Маркус наносит 12 урона.\n",
      "Ксилзри наносит 10 урона. Маркус наносит 10 урона.\n",
      "Ксилзри наносит 9 урона. Маркус наносит 10 урона.\n",
      "Ксилзри наносит 9 урона. Маркус наносит 13 урона.\n",
      "Ксилзри наносит 12 урона. Маркус наносит 12 урона.\n",
      "Ксилзри наносит 11 урона. Маркус наносит 14 урона.\n",
      "Ксилзри наносит 9 урона. Маркус наносит 11 урона.\n",
      "Ксилзри наносит 10 урона. Герой побежден :(\n"
     ]
    }
   ],
   "source": [
    "from typing import TypedDict\n",
    "import random as rand\n",
    "\n",
    "class Hero(TypedDict):\n",
    "    name: str\n",
    "    armor: str\n",
    "    weapon: str\n",
    "    health: int\n",
    "\n",
    "\n",
    "class Dragon(TypedDict):\n",
    "    name: str\n",
    "    health: int\n",
    "    damage: int\n",
    "\n",
    "hero: Hero = {'health': 125}\n",
    "dragon: Dragon = {}\n",
    "\n",
    "print('Вы авторизовались в Симуляторе битвы рыцаря и дракона.\\nЕсли скрипт',\n",
    "'показывает нумерованный список, вам нужно ввести лишь номер (т.е. без точки).')\n",
    "\n",
    "hero['name'] = input('Введите имя героя: ')\n",
    "\n",
    "print('''Вы пробираетесь по лесу в сторону луча света.\n",
    "Цель всего вашего пути - спасение Принцессы из заточения в башне, которую\n",
    "охраняет Дракон. На пути вы встречаете милого зайца.\n",
    "Он навевает вам воспоминания о вашем отрочестве - вы... (выбор доспеха)''')\n",
    "\n",
    "armor_options = {'были бродягой и воровали.': 3,  # light\n",
    "                 'были подмастерьем кузнеца и собирали доспехи.': 6,  # medium\n",
    "                 'выросли в тренировочном лагере воинов.': 15} # heavy\n",
    "\n",
    "armor_numbers = {\n",
    "    '1': armor_options['были бродягой и воровали.'],\n",
    "    '2': armor_options['были подмастерьем кузнеца и собирали доспехи.'],\n",
    "    '3': armor_options['выросли в тренировочном лагере воинов.']\n",
    "}\n",
    "\n",
    "enum_armor_options = (f'{num}.{elem}' for num, elem in zip(armor_numbers,\n",
    "                                                           armor_options))\n",
    "print(*enum_armor_options, sep='\\n')\n",
    "\n",
    "while True:\n",
    "    decision_armor = input('Введите номер: ')\n",
    "    if decision_armor in armor_numbers:\n",
    "        hero['armor'] = armor_numbers[decision_armor]\n",
    "        break\n",
    "    else:\n",
    "        print('Введите корректный номер варианта.')\n",
    "\n",
    "print('''Пробираясь дальше по лесу, вы замечаете деревянный монумент куба d20.\n",
    "Вы вспоминаете лучшие годы юности - вы...''')\n",
    "\n",
    "weapon_options = {\n",
    "    'играли с приятелями в дартс на деньги.': range(7, 12), # bow\n",
    "    'учились фехтовальному делу.': range(10, 15), # sword\n",
    "    'работали лесорубом.': range(9, 30) # two-handed axe\n",
    "}\n",
    "\n",
    "weapon_numbers = {\n",
    "    '1': weapon_options['играли с приятелями в дартс на деньги.'],\n",
    "    '2': weapon_options['учились фехтовальному делу.'],\n",
    "    '3': weapon_options['работали лесорубом.']\n",
    "}\n",
    "\n",
    "enum_weapon_options = (f'{num}.{elem}' for num, elem in zip(weapon_numbers,\n",
    "                                                            weapon_options))\n",
    "print(*enum_weapon_options, sep='\\n')\n",
    "\n",
    "while True:\n",
    "    decision_weapon = input('Введите номер: ')\n",
    "    if decision_weapon in weapon_numbers:\n",
    "        hero['weapon'] = weapon_numbers[decision_weapon]\n",
    "        break\n",
    "    else:\n",
    "        print('Введите корректный номер варианта.')\n",
    "\n",
    "print('''Наконец вы замечаете очертания башни. Ваш заклятый враг - Дракон. Вы пытаетесь\n",
    "рассмотреть цвет его шкуры и видите, что она ...''')\n",
    "\n",
    "dragon_options = {\n",
    "    'зеленая.': (200, range(12, 15), 'Зирус'),  # HP, DMG\n",
    "    'переливается синим цветом.': (180, range(14, 19), 'Ксилзри'),\n",
    "    'объята красным пламенем.': (230, range(10, 12), 'Амрием')\n",
    "}\n",
    "\n",
    "dragon_numbers = {\n",
    "    '1': dragon_options['зеленая.'],\n",
    "    '2': dragon_options['переливается синим цветом.'],\n",
    "    '3': dragon_options['объята красным пламенем.']\n",
    "}\n",
    "\n",
    "enum_dragon_options = (f'{num}.{elem}' for num, elem in zip(dragon_numbers,\n",
    "                                                            dragon_options))\n",
    "print(*enum_dragon_options, sep='\\n')\n",
    "\n",
    "while True:\n",
    "    decision_dragon = input('Введите номер: ')\n",
    "    if decision_dragon in dragon_numbers:\n",
    "        dragon_params = dragon_numbers[decision_dragon]\n",
    "        dragon['health'], dragon['damage'], dragon['name'] = dragon_params\n",
    "        break\n",
    "    else:\n",
    "        print('Введите корректный номер варианта')\n",
    "\n",
    "print('Да начнется битва!\\n')\n",
    "\n",
    "is_hero_wins = True\n",
    "\n",
    "while dragon['health'] > 0:\n",
    "    dragon_dmg = rand.choice(dragon['damage']) - hero['armor']\n",
    "    hero['health'] -= (0 if dragon_dmg <= 0 else dragon_dmg)\n",
    "    print(f'{dragon[\"name\"]} наносит {dragon_dmg} урона. ', end='')\n",
    "\n",
    "    if hero['health'] <= 0:\n",
    "        is_hero_wins = False\n",
    "        break\n",
    "    else:\n",
    "        hero_dmg = rand.choice(hero['weapon'])\n",
    "        dragon['health'] -= hero_dmg\n",
    "        print(f'{hero[\"name\"]} наносит {hero_dmg} урона.')\n",
    "\n",
    "if is_hero_wins:\n",
    "    print('Герой победил!')\n",
    "else:\n",
    "    print('Герой побежден :(')"
   ]
  },
  {
   "cell_type": "markdown",
   "metadata": {
    "id": "N8oFiEXol3e2"
   },
   "source": [
    "\n",
    "# Задание 3\n"
   ]
  },
  {
   "cell_type": "markdown",
   "metadata": {
    "id": "9p4WQG_Vl7wB"
   },
   "source": [
    "Цель - создать менеджера команды Pokémon, который позволит пользователям:\n",
    "\n",
    "- Добавлять покемонов в свою команду. (если такого покемона еще нет в команде)\n",
    "- Удалять покемонов из их команды.\n",
    "- Просматривать подробную информацию обо всех покемонах в команде.\n",
    "- Находить покемона по имени.\n",
    "- Устраивать тренировочный бой между двумя покемонами\n",
    "\n",
    "Для данной задачи используйте: https://pokeapi.co/\n"
   ]
  },
  {
   "cell_type": "code",
   "execution_count": null,
   "metadata": {
    "id": "XTGR6O1D9UrU"
   },
   "outputs": [],
   "source": [
    "# import requests\n",
    "\n",
    "# pokemon_name = input(\"Имя покемона: \")\n",
    "\n",
    "# url = f'https://pokeapi.co/api/v2/pokemon/{pokemon_name}'\n",
    "# response = requests.get(url)\n",
    "# if response.status_code == 200:\n",
    "#     data = response.json()\n",
    "#     weight = data['weight']\n",
    "#     height = data['height']4\n",
    "#     abilities_names = tuple(elem['ability']['name'] for elem in data['abilities'])\n",
    "#     types_names = tuple(typee['type']['name'] for typee in data['types'])\n",
    "#     print(f\"Вес покемона: {weight}\")\n",
    "#     print(f\"Рост покемона: {height}\")\n",
    "#     print(f\"Способности покемона:\", \" \".join(abilities_names))\n",
    "#     print(f\"Типы покемона:\", \" \".join(types_names))\n",
    "# else:\n",
    "#     print(response.status_code)\n",
    "#     print(\"RESPONSE IS INCORRECT, PLS, RESTART PROGRAM\")"
   ]
  },
  {
   "cell_type": "code",
   "execution_count": 23,
   "metadata": {
    "colab": {
     "base_uri": "https://localhost:8080/",
     "height": 108
    },
    "executionInfo": {
     "elapsed": 429,
     "status": "error",
     "timestamp": 1731877797573,
     "user": {
      "displayName": "_Griff __",
      "userId": "13893896625557140990"
     },
     "user_tz": -300
    },
    "id": "NnGYp1MTqi5k",
    "outputId": "71c10ae6-5873-4a07-e41f-615387a263a2"
   },
   "outputs": [
    {
     "ename": "SyntaxError",
     "evalue": "'{' was never closed (<ipython-input-23-7a6433e58f3d>, line 1)",
     "output_type": "error",
     "traceback": [
      "\u001b[0;36m  File \u001b[0;32m\"<ipython-input-23-7a6433e58f3d>\"\u001b[0;36m, line \u001b[0;32m1\u001b[0m\n\u001b[0;31m    ACTIONS = {\u001b[0m\n\u001b[0m              ^\u001b[0m\n\u001b[0;31mSyntaxError\u001b[0m\u001b[0;31m:\u001b[0m '{' was never closed\n"
     ]
    }
   ],
   "source": [
    "import requests\n",
    "\n",
    "def get_pokemon_info_by_name(pokemon_name: str) -> tuple[int, dict]\n",
    "    \"\"\"\n",
    "    Получает информацию о покемоне, используя PokeAPI.\n",
    "    :param pokemon_name: Имя покемона\n",
    "    \"\"\"\n",
    "    url = f'https://pokeapi.co/api/v2/pokemon/{pokemon_name}'\n",
    "    response = requests.get(url)\n",
    "    pokemon = {}\n",
    "    if response.status_code == 200:\n",
    "        data = response.json()\n",
    "        pokemon['abilities_names'] = tuple(elem['ability']['name']\n",
    "                                           for elem in data['abilities'])\n",
    "    return response.status_code, pokemon\n",
    "\n",
    "\n",
    "def validate_pokemon_inputted_name() -> dict:\n",
    "    \"\"\"\n",
    "    Добивается от пользователя ввода имени покемона, которое есть в PokeAPI.\n",
    "    \"\"\"\n",
    "    while True:\n",
    "        pokemon_name = input('Введите имя покемона: ').lower()\n",
    "        pokemon_info = get_pokemon_info_by_name(pokemon_name)\n",
    "        if pokemon_info[0] == 200:\n",
    "            return pokemon_info\n",
    "        else:\n",
    "            print('Покемона с таким именем нет в базе PokeAPI.')\n",
    "\n",
    "\n",
    "def add_pokemon_in_team(pokemon_info: dict):\n",
    "    pass\n",
    "\n",
    "\n",
    "ACTIONS = {\n",
    "    '1': 'Добавить покемона в команду',\n",
    "    '2': 'Удалить покемона из команды',\n",
    "    '3': 'Посмореть информацию о покемонах в команде',\n",
    "    '4': 'Найти покемона по имени (в БД)',\n",
    "    '5': 'Устроить бой между покемонами'\n",
    "}\n",
    "\n",
    "pokemon_names =\n",
    "pokemon_team = []\n",
    "\n",
    "while True:\n",
    "    action = input('Введите номер действия (без точки): ')\n",
    "\n",
    "    if action in ACTIONS:\n",
    "        if action == '1':\n",
    "            pokemon_info = validate_pokemon_inputted_name()\n",
    "            add_pokemon_in_team(pokemon_info)\n",
    "        if action == '2':\n",
    "            pass\n",
    "        if action == '3':\n",
    "            pass\n",
    "        if action == '4':\n",
    "            pass\n",
    "        if action == '5':\n",
    "            pass\n",
    "    else:\n",
    "        print('Вы ввели неверный номер действия.')"
   ]
  },
  {
   "cell_type": "code",
   "execution_count": null,
   "metadata": {
    "id": "GW1Oz9gn9ftL"
   },
   "outputs": [],
   "source": [
    "}"
   ]
  }
 ],
 "metadata": {
  "colab": {
   "provenance": [
    {
     "file_id": "1zZbU5QXY3ZEtfsKWHQC-JGRhxn7rwGmd",
     "timestamp": 1731404078680
    }
   ]
  },
  "kernelspec": {
   "display_name": "Python 3 (ipykernel)",
   "language": "python",
   "name": "python3"
  },
  "language_info": {
   "codemirror_mode": {
    "name": "ipython",
    "version": 3
   },
   "file_extension": ".py",
   "mimetype": "text/x-python",
   "name": "python",
   "nbconvert_exporter": "python",
   "pygments_lexer": "ipython3",
   "version": "3.12.5"
  }
 },
 "nbformat": 4,
 "nbformat_minor": 4
}
