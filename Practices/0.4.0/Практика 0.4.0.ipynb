{
 "cells": [
  {
   "cell_type": "markdown",
   "metadata": {
    "id": "k8oVfdwrMXyc"
   },
   "source": [
    "Введите ваше ФИО: Холкин Николай Алексеевич"
   ]
  },
  {
   "cell_type": "markdown",
   "metadata": {
    "id": "8HbYUbm3Jw3o"
   },
   "source": [
    "***Дисклеймер***\n",
    "\n",
    "В данной практике запрещено использования функций:\n",
    "\n",
    "\n",
    "*   sum()\n",
    "*   min()\n",
    "*   max()\n",
    "*   average()\n",
    "*   reversed()\n",
    "*   sorted()\n",
    "*   готовые функции или библиотеки\n"
   ]
  },
  {
   "cell_type": "markdown",
   "metadata": {
    "id": "HmX0c6YPJSQr"
   },
   "source": [
    "\n",
    "**Задача 1:**\n",
    "\n",
    "\n",
    "\n",
    "Интернет-магазин предлагает следующие условия скидок:\n",
    "\n",
    "*   Для заказов больше 1000 единиц, клиент получает скидку 5%. Если клиент использует промокод SUPERDISCOUNT, он получает скидку 10%.\n",
    "*  Для заказов стоимостью более 5000 единиц, клиент получает скидку 15%, а использование промокода SUPERDISCOUNT увеличивает скидку до 20%.\n",
    "\n",
    "Этап 1:\n",
    "Ввод:\n",
    "```\n",
    "Введите стоимость единицы товара: 5\n",
    "Введите количество товара: 1000\n",
    "Введите промокод: GiVEMEDISCONT\n",
    "```\n",
    "\n",
    "Вывод:\n",
    "\n",
    "```\n",
    "Ваша скидка: 5%\n",
    "Итоговая сумма: 4750.0\n",
    "```\n",
    "Этап 2:\n",
    "\n",
    "Оформите ваш код в виде функции"
   ]
  },
  {
   "cell_type": "code",
   "execution_count": null,
   "metadata": {
    "id": "OAIMIpklMN5D"
   },
   "outputs": [],
   "source": [
    "def internet_shop(unit_price: int, units_cnt: int, user_promo: str) -> tuple[int, float]:\n",
    "    \"\"\"\n",
    "        :param unit_price: Цена единицы товара\n",
    "        :param units_cnt: Количество единиц товара\n",
    "        :param user_promo: Промокод пользователя\n",
    "        :returns res: Кортеж из скидки в процентах и итоговой суммы\n",
    "    \"\"\"\n",
    "    PROMO = \"SUPERDISCOUNT\"\n",
    "    coef = 0\n",
    "    if units_cnt > 1000:\n",
    "        coef = 5\n",
    "        if user_promo == PROMO:\n",
    "            coef = 10\n",
    "    elif units_cnt > 5000:\n",
    "        coef = 15\n",
    "        if user_promo == PROMO:\n",
    "            coef = 20\n",
    "\n",
    "    res = coef, (1-coef/100)*unit_price * units_cnt\n",
    "    return res"
   ]
  },
  {
   "cell_type": "code",
   "execution_count": null,
   "metadata": {
    "colab": {
     "base_uri": "https://localhost:8080/"
    },
    "executionInfo": {
     "elapsed": 6274,
     "status": "ok",
     "timestamp": 1728793950981,
     "user": {
      "displayName": "_Griff __",
      "userId": "13893896625557140990"
     },
     "user_tz": -300
    },
    "id": "3a8Z0CkmwnTp",
    "outputId": "7d9b198e-bd74-4a6a-a469-282b25a31771"
   },
   "outputs": [
    {
     "name": "stdout",
     "output_type": "stream",
     "text": [
      "Введите стоимость единицы товара: 10\n",
      "Введите количество товара: 1000\n",
      "Введите промокод: 1\n",
      "Ваша скидка: 0%\n",
      "Итоговая сумма: 10000.0\n"
     ]
    }
   ],
   "source": [
    "unit_price = int(input(\"Введите стоимость единицы товара: \"))\n",
    "units_cnt = int(input(\"Введите количество товара: \"))\n",
    "user_promo = input(\"Введите промокод: \")\n",
    "sale, costs = internet_shop(unit_price, units_cnt, user_promo)\n",
    "\n",
    "print(f\"Ваша скидка: {sale}%\", f\"Итоговая сумма: {costs}\", sep='\\n')"
   ]
  },
  {
   "cell_type": "code",
   "execution_count": null,
   "metadata": {
    "id": "rTVI6wu2wMA-"
   },
   "outputs": [],
   "source": [
    "# Микротесты\n",
    "assert internet_shop(5, 1000, \"DISCOUNT\") == (0, 5000.0)\n",
    "assert internet_shop(5, 2000, \"SUPERDISCOUNT\") == (10, 9000.0)"
   ]
  },
  {
   "cell_type": "markdown",
   "metadata": {
    "id": "eeRVWpuLNGJ0"
   },
   "source": [
    "**Задача 2:**\n",
    "\n",
    "Этап 1:\n",
    "Напишите программу способную отфильтровать список и вывести только положительные элементы\n",
    "\n",
    "\n",
    "Ввод:\n",
    "```\n",
    "-1 5 1 2 -3\n",
    "```\n",
    "\n",
    "Вывод:\n",
    "\n",
    "```\n",
    "5 1 2\n",
    "```\n",
    "\n",
    "Этап 2:\n",
    "\n",
    "Оформите ваш код в виде функции"
   ]
  },
  {
   "cell_type": "code",
   "execution_count": null,
   "metadata": {
    "id": "Xbi6bL0WOE9N"
   },
   "outputs": [],
   "source": [
    "def filter_list(seq: list[int]) -> list:\n",
    "    return [elem for elem in seq if elem >= 0]"
   ]
  },
  {
   "cell_type": "code",
   "execution_count": null,
   "metadata": {
    "colab": {
     "base_uri": "https://localhost:8080/"
    },
    "executionInfo": {
     "elapsed": 3765,
     "status": "ok",
     "timestamp": 1728793960158,
     "user": {
      "displayName": "_Griff __",
      "userId": "13893896625557140990"
     },
     "user_tz": -300
    },
    "id": "eVG9Cu-Z6QQQ",
    "outputId": "c8ae5501-613d-4f7c-faa8-5dddf8cfae38"
   },
   "outputs": [
    {
     "name": "stdout",
     "output_type": "stream",
     "text": [
      "10 -1 0\n",
      "10 0\n"
     ]
    }
   ],
   "source": [
    "listy = [int(elem) for elem in input().split()]\n",
    "print(*filter_list(listy))"
   ]
  },
  {
   "cell_type": "code",
   "execution_count": null,
   "metadata": {
    "id": "dTJga83ov_oq"
   },
   "outputs": [],
   "source": [
    "# Микротесты\n",
    "assert filter_list([-1, 5, 1, 2, -3]) == [5, 1, 2]\n",
    "assert filter_list([-1, 0, 5, 1, 2, -2, -1]) == [0, 5, 1, 2]"
   ]
  },
  {
   "cell_type": "markdown",
   "metadata": {
    "id": "lV-w6G-POa6F"
   },
   "source": [
    "**Задача 3:**\n",
    "\n",
    "Этап 1:\n",
    "Напишите программу реализующую Алгоритм Евклида\n",
    "\n",
    "\n",
    "> Алгоритм Евклида – это алгоритм нахождения наибольшего общего делителя (НОД) пары целых чисел.\n",
    "\n",
    "\n",
    "\n",
    "Ввод:\n",
    "```\n",
    "30 18\n",
    "```\n",
    "\n",
    "Вывод:\n",
    "\n",
    "```\n",
    "6\n",
    "```\n",
    "\n",
    "Этап 2:\n",
    "Оформите ваш код в виде функции\n"
   ]
  },
  {
   "cell_type": "code",
   "execution_count": null,
   "metadata": {
    "id": "43Dl5tIpOZsu"
   },
   "outputs": [],
   "source": [
    "def euclid_alg(x: int, y: int) -> int:\n",
    "    \"\"\"\n",
    "    Имплементация алгоритима Евклида\n",
    "        :param x: Первое число\n",
    "        :param y: Второе число\n",
    "        :returns x: НОД для двух чисел\n",
    "    \"\"\"\n",
    "    if x == 0 or y == 0:\n",
    "        raise ZeroDivisionError()\n",
    "    elif x < 0 or y < 0:\n",
    "        raise Exception(\"Одно из чисел меньше 0, для него нельзя применить алгоритм Евклида\")\n",
    "    else:\n",
    "        while x != y:\n",
    "            if x > y:\n",
    "                x -= y\n",
    "            else: # x <= y\n",
    "                y -= x\n",
    "        return x"
   ]
  },
  {
   "cell_type": "code",
   "execution_count": null,
   "metadata": {
    "colab": {
     "base_uri": "https://localhost:8080/"
    },
    "executionInfo": {
     "elapsed": 5291,
     "status": "ok",
     "timestamp": 1728793977253,
     "user": {
      "displayName": "_Griff __",
      "userId": "13893896625557140990"
     },
     "user_tz": -300
    },
    "id": "AnlZn7GV0Sts",
    "outputId": "17b57db3-0bdc-4b19-908c-a8101a3faf3f"
   },
   "outputs": [
    {
     "name": "stdout",
     "output_type": "stream",
     "text": [
      "144 24\n",
      "24\n"
     ]
    }
   ],
   "source": [
    "num1, num2 = tuple(int(elem) for elem in input().split())\n",
    "print(euclid_alg(num1, num2))"
   ]
  },
  {
   "cell_type": "code",
   "execution_count": null,
   "metadata": {
    "id": "L_agrPOXufST"
   },
   "outputs": [],
   "source": [
    "# Микротесты для алгоритма Евклида (однажды я не поленюсь загуглить документацию pytest)\n",
    "assert euclid_alg(30, 18) == 6\n",
    "assert euclid_alg(15, 5) == 5\n",
    "assert euclid_alg(121, 22) == 11"
   ]
  },
  {
   "cell_type": "markdown",
   "metadata": {
    "id": "WIfPFxpsO0zL"
   },
   "source": [
    "**Задача 4:**\n",
    "\n",
    "Этап 1:\n",
    "Напишите функцию программу, которая принимает строку и возвращает список слов и количество их упомнинаний в предложении\n",
    "\n",
    "Этап 2:\n",
    "Оформите ваш код в виде функции\n",
    "\n",
    "Ввод:\n",
    "```\n",
    "apple banana apple\n",
    "```\n",
    "\n",
    "Вывод:\n",
    "\n",
    "```\n",
    "apple: 2,\n",
    "banana: 1\n",
    "```"
   ]
  },
  {
   "cell_type": "code",
   "execution_count": null,
   "metadata": {
    "id": "DgsmFeW5Po_x"
   },
   "outputs": [],
   "source": [
    "def words_counter(text: str) -> list[str]:\n",
    "    uniq_words = []\n",
    "    for word in text.split():\n",
    "        if word not in uniq_words:\n",
    "            uniq_words.append(word)\n",
    "    res = []\n",
    "    for word in uniq_words:\n",
    "        res.append(f\"{word}: {text.count(word)}\") # в следующем коммите заменить на regex\n",
    "    return res"
   ]
  },
  {
   "cell_type": "code",
   "execution_count": null,
   "metadata": {
    "colab": {
     "base_uri": "https://localhost:8080/",
     "height": 162
    },
    "executionInfo": {
     "elapsed": 488,
     "status": "error",
     "timestamp": 1728804014678,
     "user": {
      "displayName": "_Griff __",
      "userId": "13893896625557140990"
     },
     "user_tz": -300
    },
    "id": "_D970xfCxCky",
    "outputId": "f7e47091-9a13-40f4-f3f5-b5e91c3079df"
   },
   "outputs": [
    {
     "ename": "AssertionError",
     "evalue": "",
     "output_type": "error",
     "traceback": [
      "\u001b[0;31m---------------------------------------------------------------------------\u001b[0m",
      "\u001b[0;31mAssertionError\u001b[0m                            Traceback (most recent call last)",
      "\u001b[0;32m<ipython-input-33-1b6395297cb4>\u001b[0m in \u001b[0;36m<cell line: 2>\u001b[0;34m()\u001b[0m\n\u001b[1;32m      1\u001b[0m \u001b[0;32massert\u001b[0m \u001b[0mwords_counter\u001b[0m\u001b[0;34m(\u001b[0m\u001b[0;34m\"apple banana apple\"\u001b[0m\u001b[0;34m)\u001b[0m \u001b[0;34m==\u001b[0m \u001b[0;34m[\u001b[0m\u001b[0;34m\"apple: 2\"\u001b[0m\u001b[0;34m,\u001b[0m \u001b[0;34m\"banana: 1\"\u001b[0m\u001b[0;34m]\u001b[0m\u001b[0;34m\u001b[0m\u001b[0;34m\u001b[0m\u001b[0m\n\u001b[0;32m----> 2\u001b[0;31m \u001b[0;32massert\u001b[0m \u001b[0mwords_counter\u001b[0m\u001b[0;34m(\u001b[0m\u001b[0;34m\"apple pineapple\"\u001b[0m\u001b[0;34m)\u001b[0m \u001b[0;34m==\u001b[0m \u001b[0;34m[\u001b[0m\u001b[0;34m\"apple: 1\"\u001b[0m\u001b[0;34m,\u001b[0m \u001b[0;34m\"pineapple: 1\"\u001b[0m\u001b[0;34m]\u001b[0m\u001b[0;34m\u001b[0m\u001b[0;34m\u001b[0m\u001b[0m\n\u001b[0m",
      "\u001b[0;31mAssertionError\u001b[0m: "
     ]
    }
   ],
   "source": [
    "assert words_counter(\"apple banana apple\") == [\"apple: 2\", \"banana: 1\"]\n",
    "# fix in next commit: # assert words_counter(\"apple pineapple\") == [\"apple: 1\", \"pineapple: 1\"]"
   ]
  },
  {
   "cell_type": "markdown",
   "metadata": {
    "id": "5BmIJLUZP9I-"
   },
   "source": [
    "**Задача 5:**\n",
    "\n",
    "Этап 1:\n",
    "Детектор анаграмм Напишите программу на Python, которая принимает в качестве входных данных две строки и проверяет, являются ли они анаграммами друг друга\n",
    "\n",
    "Этап 2:\n",
    "Оформите ваш код в виде функции\n",
    "\n",
    "Ввод:\n",
    "```\n",
    "listen, silent\n",
    "```\n",
    "\n",
    "Вывод:\n",
    "\n",
    "```\n",
    "True\n",
    "```"
   ]
  },
  {
   "cell_type": "code",
   "execution_count": null,
   "metadata": {
    "id": "E8pDcIkA2FDz"
   },
   "outputs": [],
   "source": [
    "# Странная и неоптимизированная имплементация сортировки пузырьком :)\n",
    "def bubble_sort(seq):\n",
    "    for j in range(len(seq)-1):\n",
    "        for i in range(len(seq)-1-j):\n",
    "            if seq[i] > seq[i+1]:\n",
    "                seq[i], seq[i+1] = seq[i+1], seq[i]\n",
    "    return seq"
   ]
  },
  {
   "cell_type": "code",
   "execution_count": null,
   "metadata": {
    "id": "EORnmvNa3aKz"
   },
   "outputs": [],
   "source": [
    "assert bubble_sort([3, 1, 2, -1, 0, 1, 2, 3]) == sorted([3, 1, 2, -1, 0, 1, 2, 3])\n",
    "assert bubble_sort([3, 2, 1, -1, -2, 0]) == sorted([3, 2, 1, -1, -2, 0])"
   ]
  },
  {
   "cell_type": "code",
   "execution_count": null,
   "metadata": {
    "id": "7LNW8DuHQJwH"
   },
   "outputs": [],
   "source": [
    "def annogram_detector(word1: str, word2: str) -> bool:\n",
    "    word1_letters_cnts = [letter.count(word1) for letter in word1]\n",
    "    word2_letters_cnts = [letter.count(word2) for letter in word2]\n",
    "\n",
    "    if bubble_sort(word1_letters_cnts) == bubble_sort(word2_letters_cnts):\n",
    "        return True\n",
    "    return False"
   ]
  },
  {
   "cell_type": "code",
   "execution_count": null,
   "metadata": {
    "id": "2lJXPsQJ7ipo"
   },
   "outputs": [],
   "source": [
    "# Тест\n",
    "assert annogram_detector(\"listen\", \"silent\") == True"
   ]
  },
  {
   "cell_type": "markdown",
   "metadata": {
    "id": "-SIWYSq2QKBh"
   },
   "source": [
    "**Задача 6:**\n",
    "\n",
    "Шифр ​​Цезаря\n",
    "\n",
    "Напишите программу на Python, которая реализует шифр Цезаря, простой метод шифрования, который заменяет каждую букву буквой на фиксированное количество позиций вниз по алфавиту. Программа должна запрашивать у пользователя сообщение и значение сдвига, а затем шифровать и расшифровывать сообщение.\n",
    "\n",
    "Этап 1:\n",
    "\n",
    "Напишите код для реализации данной задачи\n",
    "\n",
    "Этап 2:\n",
    "\n",
    "Оформите код в виде нескольких функций:\n",
    "\n",
    "* Зашифровывает сообщение\n",
    "* Расшифровывает сообщение"
   ]
  },
  {
   "cell_type": "code",
   "execution_count": null,
   "metadata": {
    "id": "anThYirsQe6N"
   },
   "outputs": [],
   "source": [
    "def caesar_algorithm_encryptor(text: str, k: int) -> str:\n",
    "    \"\"\"\n",
    "        Функция шифрования текста шифром Цезаря (без сохранения регистра)\n",
    "        :param text: Исходный текст\n",
    "        :param k: Сдвиг для шифра Цезаря\n",
    "        :returns: Зашифрованный текст (lowercase)\n",
    "    \"\"\"\n",
    "\n",
    "    text_letters = list(text.casefold())\n",
    "\n",
    "    for i in range(len(text_letters)):\n",
    "        letter_ascii = ord(text_letters[i])-97\n",
    "        digit_ucode = ord(text_letters[i])-48\n",
    "        letter_rus = ord(text_letters[i])-1072\n",
    "        if 25 >= letter_ascii >= 0:\n",
    "            text_letters[i] = chr((letter_ascii+k) % 26 + 97)\n",
    "        elif 9 >= digit_ucode >= 0:\n",
    "            text_letters[i] = chr((digit_ucode+k) % 10 + 48)\n",
    "        elif 31 >= letter_rus >= 0:\n",
    "            text_letters[i] = chr((letter_rus+k) % 32 + 1072)\n",
    "    return \"\".join(text_letters)\n",
    "\n",
    "\n",
    "def caesar_algorithm_decryptor(text: str, k: int) -> str:\n",
    "    \"\"\"\n",
    "        Функция расшифровки текста шифром Цезаря (работает только с текстом в нижнем регистре)\n",
    "        :param text: Зашифрованный текст\n",
    "        :param k: Сдвиг для шифра Цезаря\n",
    "        :returns: Расшифрованный текст (lowercase)\n",
    "    \"\"\"\n",
    "    text_letters = list(text.casefold())\n",
    "    for i in range(len(text_letters)):\n",
    "        letter_ascii = ord(text_letters[i])-97\n",
    "        digit_ucode = ord(text_letters[i])-48\n",
    "        letter_rus = ord(text_letters[i])-1072\n",
    "        if 25 >= letter_ascii >= 0:\n",
    "            text_letters[i] = chr((letter_ascii-k) % 26 + 97)\n",
    "        elif 9 >= digit_ucode >= 0:\n",
    "            text_letters[i] = chr((digit_ucode-k) % 10 + 48)\n",
    "        elif 31 >= letter_rus >= 0:\n",
    "            text_letters[i] = chr((letter_rus-k) % 32 + 1072)\n",
    "    return \"\".join(text_letters)"
   ]
  },
  {
   "cell_type": "code",
   "execution_count": null,
   "metadata": {
    "id": "fFUfOxF9_4xK"
   },
   "outputs": [],
   "source": [
    "assert caesar_algorithm_encryptor(\"abcd\", k=1) == \"bcde\"\n",
    "assert caesar_algorithm_encryptor(\"8901\", k=2) == \"0123\"\n",
    "assert caesar_algorithm_encryptor(\"Цезарь\", 3) == \"щикгуя\"\n",
    "assert caesar_algorithm_encryptor(\"abc098\", 3) == \"def321\"\n",
    "\n",
    "assert caesar_algorithm_decryptor(\"bcde\", 1) == \"abcd\"\n",
    "assert caesar_algorithm_decryptor(\"0123\", 2) == \"8901\"\n",
    "assert caesar_algorithm_decryptor(\"щикгуя\", 3) == \"цезарь\"\n",
    "assert caesar_algorithm_decryptor(\"def321\", 3) == \"abc098\""
   ]
  },
  {
   "cell_type": "markdown",
   "metadata": {
    "id": "avFZRRXrQz9O"
   },
   "source": [
    "**Задача 7:**\n",
    "\n",
    "Задача: «Банковская система»\n",
    "\n",
    "Создайте программу Python, которая имитирует базовую банковскую систему. Система должна иметь следующие функции:\n",
    "\n",
    "Требования\n",
    "*   Система должна позволять клиентам создавать счета и хранить их балансы.\n",
    "*   Система должна позволять клиентам вносить и снимать деньги со своих счетов.\n",
    "*   Система должна позволять клиентам проверять свой текущий баланс.\n",
    "*   Система должна позволять клиентам переводить деньги между счетами.\n",
    "*   Система должна отслеживать транзакции (депозиты, снятия и переводы) и иметь возможность печатать детали транзакций.\n",
    "\n",
    "\n",
    "Задачи\n",
    "1. Реализуйте банковскую систему, используя только базовые конструкции Python, такие как def, lists, if, elif и else, без классов или словарей.\n",
    "Определите функции для создания счетов, внесения и снятия денег, получения балансов счетов, перевода денег между счетами, а также создания и печати транзакций.\n",
    "2. Напишите основную функцию, которая демонстрирует использование банковской системы путем создания счетов, внесения и снятия денег и перевода денег между счетами.\n",
    "3. Бонусное задание\n",
    "Реализуйте способ хранения и печати истории транзакций для каждого счета.\n",
    "\n",
    "Ограничения\n",
    "Не используйте классы или словари.\n",
    "Используйте только базовые конструкции Python, такие как def, lists, if, elif и else.\n"
   ]
  },
  {
   "cell_type": "markdown",
   "metadata": {
    "id": "wjYxtFR1_D3_"
   },
   "source": [
    "`John Doe's current balance: $500`  \n",
    "`Transaction: Initial deposit, $1000, deposit`  \n",
    "`Transaction: Withdrawal, $500, withdrawal`  \n",
    "`Jane Doe's current balance: $200`  "
   ]
  },
  {
   "cell_type": "code",
   "execution_count": null,
   "metadata": {
    "id": "1N7vmdupKmM9"
   },
   "outputs": [],
   "source": [
    "def auth_user(db: tuple[list[str], list[list[int]]],\n",
    "              OPS_NUM: list[str], AUTH_USER_TEXT: str) -> str:\n",
    "    \"\"\"\n",
    "        :param db: Переменная db\n",
    "        :param OPS_NUM: Список OPS_NUM\n",
    "        :param AUTH_USER_TEXT: Текст, сопровождающий ввод имени и фамилии\n",
    "    \"\"\"\n",
    "    while True:\n",
    "        request = input()\n",
    "        clients_names = db[0]\n",
    "        if request == OPS_NUM[0]: # Войти в аккаунт\n",
    "                client_name = input(f\"\\n{AUTH_USER_TEXT}\\n\")\n",
    "                if client_name in clients_names:\n",
    "                    return client_name\n",
    "                print(\"Такого пользователя не существует.\")\n",
    "\n",
    "\n",
    "        elif request == OPS_NUM[1]: # Создать аккаунт\n",
    "            client_name = input(f\"\\n{AUTH_USER_TEXT}\\n\")\n",
    "            if client_name in clients_names:\n",
    "                print(\"Аккаунт с таким именем и фамилией уже существует. Повторите ввод.\\n\")\n",
    "            else:\n",
    "                db[0].append(client_name)\n",
    "                db[1].append([])\n",
    "                return client_name\n",
    "        else:\n",
    "            print(\"Вы ввели неверный номер операции.\")"
   ]
  },
  {
   "cell_type": "code",
   "execution_count": null,
   "metadata": {
    "id": "dWEW10zIRwjs"
   },
   "outputs": [],
   "source": [
    "logs: list[list[str]] = [] # i-ый список - список транзакций i-го счёта\n",
    "\n",
    "def bank_system_daemon() -> None:\n",
    "    global logs  # для просмотра logs из других ячеек. Но практика использования global является нехорошей.\n",
    "\n",
    "    INPUT_OP_NUM_TEXT, AUTH_USER_TEXT = \"Введите номер операции (с точкой в конце): \", \"Введите фамилию и имя: \"\n",
    "    OP_USER_0, OP_USER_1 = \"0. Войти в аккаунт.\", \"1. Создать аккаунт.\"\n",
    "    GREETING_TEXT = f\"Здравствуйте. Вас приветствует умная банковская система LLaMa Bank.\\n{INPUT_OP_NUM_TEXT}\\n{OP_USER_0}\\n{OP_USER_1}\"\n",
    "    INPUT_DEBIT_ACC_NUMBER = \"Введите номер счёта списания: \"\n",
    "    INPUT_DEPOSIT_ACC_NUMBER = \"Введите номер счёта зачисления: \"\n",
    "\n",
    "    OPS_COUNT = 7\n",
    "    OP_0, OP_1, OP_2, OP_3 = \"0. Создать счёт.\", \"1. Проверить баланс.\", \"2. Внести деньги на счет.\", \"3. Снять деньги со счета\"\n",
    "    OP_4, OP_5, OP_6 = \"4. Перевести деньги на счет пользователя системы.\", \"5. Проверить историю транзакций.\", \"6. Выйти из аккаунта.\"\n",
    "    INVALID_ACCOUNT_MSG = \"Вы ввели неверный номер счета.\"\n",
    "    OPS_NUM = tuple(f\"{num}.\" for num in range(OPS_COUNT))\n",
    "    new_acc_number = 0\n",
    "\n",
    "    account_balances: list[int] = []  # [500, 2]\n",
    "    db: tuple[list[str], list[list[int]]] = ([], [])  # Структура: ([\"Joe\", \"Jane\"], [[0, 1], [2]])\n",
    "    total_accounts: set[int] = set()  # {0, 1}\n",
    "\n",
    "\n",
    "    def input_valid_account(msg: str, err_msg: str, client_name: str, global_search: bool = False) -> int:\n",
    "        \"\"\"\n",
    "            :param msg: Сообщение, выводящееся при вводе.\n",
    "            :param err_msg: Сообщение, выводящееся при ошибке ввода.\n",
    "            :param client_name: Имя пользователя\n",
    "            :param global_search: Искать номер счёта среди всех счетов или среди счетов конкретного пользователя\n",
    "        \"\"\"\n",
    "        while True:\n",
    "            account_number = int(input(msg))\n",
    "            if not(global_search) and account_number not in db[1][client_index]:\n",
    "                print(err_msg) # FIX: can't break cycle w/o typing correct account number\n",
    "\n",
    "            elif global_search and account_number not in total_accounts:\n",
    "                print(err_msg)\n",
    "            else:\n",
    "                return account_number\n",
    "\n",
    "    try:\n",
    "        while True:\n",
    "            print(GREETING_TEXT)\n",
    "            client_name = auth_user(db, OPS_NUM, AUTH_USER_TEXT)\n",
    "            client_index = db[0].index(client_name)\n",
    "\n",
    "            print(f\"\\nСписок операций:\\n{OP_0}\\n{OP_1}\\n{OP_2}\\n{OP_3}\\n{OP_4}\\n{OP_5}\\n{OP_6}\\n\")\n",
    "\n",
    "            while True:\n",
    "                try:\n",
    "                    request = input(INPUT_OP_NUM_TEXT)\n",
    "                    if request == OPS_NUM[0]:  # Создать счёт\n",
    "                        db[1][client_index].append(new_acc_number)\n",
    "                        total_accounts.add(new_acc_number)\n",
    "                        account_balances.append(0)\n",
    "                        logs.append([])\n",
    "                        print(f\"Новый счёт создан. Номер созданного счёта - {new_acc_number}\")\n",
    "                        new_acc_number += 1\n",
    "\n",
    "                    elif request == OPS_NUM[1]:  # Проверить баланс\n",
    "                        print(\"Суммы на ваших счетах: \")\n",
    "                        client_accounts = db[1][client_index]\n",
    "                        for acc_index in client_accounts:\n",
    "                            print(f\"{acc_index}: {account_balances[acc_index]}\")\n",
    "\n",
    "                    elif request == OPS_NUM[2]:  # Внести деньги на счёт\n",
    "                        if len(db[1][client_index]) > 0:\n",
    "                            account_deposit_number = input_valid_account(INPUT_DEPOSIT_ACC_NUMBER, INVALID_ACCOUNT_MSG, client_name, 0)\n",
    "                            deposit_amount = int(input(\"Введите сумму депозита: \"))\n",
    "                            account_balances[account_deposit_number] += deposit_amount\n",
    "                            logs[account_deposit_number].append(f\"Transaction: ${deposit_amount}, deposit\")\n",
    "                            print(f\"Сумма {deposit_amount} успешно зачислена на счёт.\")\n",
    "                        else:\n",
    "                            print(\"У вас нет счета для зачисления.\")\n",
    "\n",
    "                    elif request == OPS_NUM[3]:  # Снять деньги со счёта\n",
    "                        if len(db[1][client_index]) > 0:\n",
    "                            account_debit_number = input_valid_account(INPUT_DEBIT_ACC_NUMBER, INVALID_ACCOUNT_MSG, client_name, 0)\n",
    "                            debit_amount = int(input(\"Введите сумму списания: \"))\n",
    "                            if debit_amount > account_balances[account_debit_number]:\n",
    "                                print(\"На счёте недостаточно средств.\")\n",
    "                            else:\n",
    "                                account_balances[account_debit_number] -= debit_amount\n",
    "                                logs[account_debit_number].append(f\"Transaction: ${debit_amount}, withdrawal\")\n",
    "                                print(f\"Сумма {debit_amount} успешно снята со счёта.\")\n",
    "                        else:\n",
    "                            print(\"У вас нет счета для списания.\")\n",
    "\n",
    "                    elif request == OPS_NUM[4]:  # Перевести деньги на чужой счёт\n",
    "                        if len(db[1][client_index]) > 0:\n",
    "                            account_debit_number = input_valid_account(INPUT_DEBIT_ACC_NUMBER, INVALID_ACCOUNT_MSG, client_name, 0)\n",
    "                            account_deposit_number = input_valid_account(INPUT_DEPOSIT_ACC_NUMBER, INVALID_ACCOUNT_MSG, client_name, 1)\n",
    "                            debit_amount = int(input(\"Введите сумму списания/зачисления: \"))\n",
    "                            if debit_amount > account_balances[account_debit_number]:\n",
    "                                print(\"На счёте недостаточно средств.\")\n",
    "                            else:\n",
    "                                account_balances[account_debit_number] -= debit_amount\n",
    "                                account_balances[account_deposit_number] += debit_amount\n",
    "                                logs[account_debit_number].append(f\"Transaction: ${debit_amount}, transfer-debit\")\n",
    "                                logs[account_deposit_number].append(f\"Transaction: ${debit_amount}, transfer-deposit\")\n",
    "                                print(\"Сумма успешно переведена на другой счёт.\")\n",
    "                        else:\n",
    "                            print(\"У вас нет счета для списания.\")\n",
    "\n",
    "                    elif request == OPS_NUM[5]:  # Проверить историю транзакций\n",
    "                        print(\"История транзакций\")\n",
    "                        accounts_to_print = db[1][client_index]\n",
    "                        for i in accounts_to_print:\n",
    "                            account_to_print = logs[i]\n",
    "                            for j in account_to_print:\n",
    "                                print(j)\n",
    "\n",
    "                    elif request == OPS_NUM[6]:  # Выйти из аккаунта\n",
    "                        print(\"Вы успешно деавторизовались\\n\")\n",
    "                        break\n",
    "                    else:\n",
    "                        print(\"Вы ввели неверный номер операции.\")\n",
    "                except ValueError:\n",
    "                    print(\"Вы введи недопустимое значение\")\n",
    "    except KeyboardInterrupt:\n",
    "        print(\"Bank system daemon was Ctrl-C by user. Mistral© Inc., 2024\")"
   ]
  },
  {
   "cell_type": "code",
   "execution_count": null,
   "metadata": {
    "colab": {
     "base_uri": "https://localhost:8080/"
    },
    "executionInfo": {
     "elapsed": 531794,
     "status": "ok",
     "timestamp": 1728803113726,
     "user": {
      "displayName": "_Griff __",
      "userId": "13893896625557140990"
     },
     "user_tz": -300
    },
    "id": "ElDAXxWiAtO8",
    "outputId": "84cdeb48-33e6-4943-df3c-db5a097d86dc"
   },
   "outputs": [
    {
     "name": "stdout",
     "output_type": "stream",
     "text": [
      "Здравствуйте. Вас приветствует умная банковская система LLaMa Bank.\n",
      "Введите номер операции (с точкой в конце): \n",
      "0. Войти в аккаунт.\n",
      "1. Создать аккаунт.\n",
      "1.\n",
      "\n",
      "Введите фамилию и имя: \n",
      "John Doe\n",
      "\n",
      "Список операций:\n",
      "0. Создать счёт.\n",
      "1. Проверить баланс.\n",
      "2. Внести деньги на счет.\n",
      "3. Снять деньги со счета\n",
      "4. Перевести деньги на счет пользователя системы.\n",
      "5. Проверить историю транзакций.\n",
      "6. Выйти из аккаунта.\n",
      "\n",
      "Введите номер операции (с точкой в конце): 2.\n",
      "У вас нет счета для зачисления.\n",
      "Введите номер операции (с точкой в конце): 0.\n",
      "Новый счёт создан. Номер созданного счёта - 0\n",
      "Введите номер операции (с точкой в конце): 2.\n",
      "Введите номер счёта зачисления: 0\n",
      "Введите сумму депозита: 200\n",
      "Сумма 200 успешно зачислена на счёт.\n",
      "Введите номер операции (с точкой в конце): 6.\n",
      "Вы успешно деавторизовались\n",
      "\n",
      "Здравствуйте. Вас приветствует умная банковская система LLaMa Bank.\n",
      "Введите номер операции (с точкой в конце): \n",
      "0. Войти в аккаунт.\n",
      "1. Создать аккаунт.\n",
      "1.\n",
      "\n",
      "Введите фамилию и имя: \n",
      "Jane Doe\n",
      "\n",
      "Список операций:\n",
      "0. Создать счёт.\n",
      "1. Проверить баланс.\n",
      "2. Внести деньги на счет.\n",
      "3. Снять деньги со счета\n",
      "4. Перевести деньги на счет пользователя системы.\n",
      "5. Проверить историю транзакций.\n",
      "6. Выйти из аккаунта.\n",
      "\n",
      "Введите номер операции (с точкой в конце): 0.\n",
      "Новый счёт создан. Номер созданного счёта - 1\n",
      "Введите номер операции (с точкой в конце): 2.\n",
      "Введите номер счёта зачисления: 1\n",
      "Введите сумму депозита: 300\n",
      "Сумма 300 успешно зачислена на счёт.\n",
      "Введите номер операции (с точкой в конце): 4.\n",
      "Введите номер счёта списания: 1\n",
      "Введите номер счёта зачисления: 0\n",
      "Введите сумму списания/зачисления: 300\n",
      "Сумма успешно переведена на другой счёт.\n",
      "Введите номер операции (с точкой в конце): 5.\n",
      "История транзакций\n",
      "Transaction: $300, deposit\n",
      "Transaction: $300, transfer-debit\n",
      "Введите номер операции (с точкой в конце): 1.\n",
      "Суммы на ваших счетах: \n",
      "1: 0\n",
      "Введите номер операции (с точкой в конце): 2.\n",
      "Введите номер счёта зачисления: 1\n",
      "Введите сумму депозита: 100\n",
      "Сумма 100 успешно зачислена на счёт.\n",
      "Введите номер операции (с точкой в конце): 2.\n",
      "Введите номер счёта зачисления: 1\n",
      "Введите сумму депозита: 0\n",
      "Сумма 0 успешно зачислена на счёт.\n",
      "Введите номер операции (с точкой в конце): 5.\n",
      "История транзакций\n",
      "Transaction: $300, deposit\n",
      "Transaction: $300, transfer-debit\n",
      "Transaction: $100, deposit\n",
      "Transaction: $0, deposit\n",
      "Введите номер операции (с точкой в конце): 4.\n",
      "Введите номер счёта списания: 1\n",
      "Введите номер счёта зачисления: 0\n",
      "Введите сумму списания/зачисления: 50\n",
      "Сумма успешно переведена на другой счёт.\n",
      "Введите номер операции (с точкой в конце): 5.\n",
      "История транзакций\n",
      "Transaction: $300, deposit\n",
      "Transaction: $300, transfer-debit\n",
      "Transaction: $100, deposit\n",
      "Transaction: $0, deposit\n",
      "Transaction: $50, transfer-debit\n",
      "Введите номер операции (с точкой в конце): 6.\n",
      "Вы успешно деавторизовались\n",
      "\n",
      "Здравствуйте. Вас приветствует умная банковская система LLaMa Bank.\n",
      "Введите номер операции (с точкой в конце): \n",
      "0. Войти в аккаунт.\n",
      "1. Создать аккаунт.\n",
      "0.\n",
      "\n",
      "Введите фамилию и имя: \n",
      "John Doe\n",
      "\n",
      "Список операций:\n",
      "0. Создать счёт.\n",
      "1. Проверить баланс.\n",
      "2. Внести деньги на счет.\n",
      "3. Снять деньги со счета\n",
      "4. Перевести деньги на счет пользователя системы.\n",
      "5. Проверить историю транзакций.\n",
      "6. Выйти из аккаунта.\n",
      "\n",
      "Введите номер операции (с точкой в конце): 5.\n",
      "История транзакций\n",
      "Transaction: $200, deposit\n",
      "Transaction: $300, transfer-deposit\n",
      "Transaction: $50, transfer-deposit\n",
      "Bank system daemon was Ctrl-C by user. Mistral© Inc., 2024\n"
     ]
    }
   ],
   "source": [
    "bank_system_daemon()"
   ]
  },
  {
   "cell_type": "code",
   "execution_count": null,
   "metadata": {
    "colab": {
     "base_uri": "https://localhost:8080/"
    },
    "executionInfo": {
     "elapsed": 546,
     "status": "ok",
     "timestamp": 1728803118199,
     "user": {
      "displayName": "_Griff __",
      "userId": "13893896625557140990"
     },
     "user_tz": -300
    },
    "id": "dKD2rwxUpWDK",
    "outputId": "840414e0-c75a-4aa6-e84c-68d544acbff0"
   },
   "outputs": [
    {
     "data": {
      "text/plain": [
       "[['Transaction: $200, deposit',\n",
       "  'Transaction: $300, transfer-deposit',\n",
       "  'Transaction: $50, transfer-deposit'],\n",
       " ['Transaction: $300, deposit',\n",
       "  'Transaction: $300, transfer-debit',\n",
       "  'Transaction: $100, deposit',\n",
       "  'Transaction: $0, deposit',\n",
       "  'Transaction: $50, transfer-debit']]"
      ]
     },
     "execution_count": 28,
     "metadata": {},
     "output_type": "execute_result"
    }
   ],
   "source": [
    "logs"
   ]
  }
 ],
 "metadata": {
  "colab": {
   "provenance": [
    {
     "file_id": "1ZwSBZ3XI_wE-I4fLWA5wTMNwpfTDz2ov",
     "timestamp": 1728382482018
    }
   ]
  },
  "kernelspec": {
   "display_name": "Python 3 (ipykernel)",
   "language": "python",
   "name": "python3"
  },
  "language_info": {
   "codemirror_mode": {
    "name": "ipython",
    "version": 3
   },
   "file_extension": ".py",
   "mimetype": "text/x-python",
   "name": "python",
   "nbconvert_exporter": "python",
   "pygments_lexer": "ipython3",
   "version": "3.12.5"
  }
 },
 "nbformat": 4,
 "nbformat_minor": 4
}
