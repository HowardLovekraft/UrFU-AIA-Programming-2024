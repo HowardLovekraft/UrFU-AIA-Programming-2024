{
 "cells": [
  {
   "cell_type": "markdown",
   "metadata": {
    "id": "Bu5gIJfHNPHw"
   },
   "source": [
    "ФИО: Холкин Николай Алексеевич"
   ]
  },
  {
   "cell_type": "code",
   "execution_count": 1,
   "metadata": {
    "executionInfo": {
     "elapsed": 348,
     "status": "ok",
     "timestamp": 1729424253627,
     "user": {
      "displayName": "_Griff __",
      "userId": "13893896625557140990"
     },
     "user_tz": -300
    },
    "id": "2NcUoxLkDBNu"
   },
   "outputs": [],
   "source": [
    "from typing import Iterable, Callable, TypeAlias, NamedTuple\n",
    "from enum import Enum"
   ]
  },
  {
   "cell_type": "markdown",
   "metadata": {
    "id": "VrNrBpmocGRd"
   },
   "source": [
    "# **Задание 1**"
   ]
  },
  {
   "cell_type": "markdown",
   "metadata": {
    "id": "XhV1bnm1bR2h"
   },
   "source": [
    "\n",
    "\n",
    "Дан словарь, содержащий имена и возраст людей, напишите программу выводящую возраст человека по имени\n",
    "\n",
    "Дано:\n",
    "\n",
    "```\n",
    "{\"Alice\": 25, \"Bob\": 30, \"Charlie\": 35}\n",
    "```\n",
    "\n",
    "Вввод:\n",
    "\n",
    "\n",
    "```\n",
    "Alice\n",
    "```\n",
    "\n",
    "Вывод:\n",
    "\n",
    "\n",
    "```\n",
    "Alice 25\n",
    "```\n"
   ]
  },
  {
   "cell_type": "code",
   "execution_count": null,
   "metadata": {
    "id": "9T0nNFCEbpaF"
   },
   "outputs": [],
   "source": [
    "def get_age(name: str, ages: dict[str, int] = {\"Alice\": 25, \"Bob\": 30, \"Charlie\": 35}) -> int:\n",
    "    return ages[name]"
   ]
  },
  {
   "cell_type": "code",
   "execution_count": null,
   "metadata": {
    "colab": {
     "base_uri": "https://localhost:8080/"
    },
    "executionInfo": {
     "elapsed": 2889,
     "status": "ok",
     "timestamp": 1729352492882,
     "user": {
      "displayName": "_Griff __",
      "userId": "13893896625557140990"
     },
     "user_tz": -300
    },
    "id": "Z_mRT_GVwaop",
    "outputId": "f349db84-a9f6-4afd-fc75-25e4721b7f64"
   },
   "outputs": [
    {
     "name": "stdout",
     "output_type": "stream",
     "text": [
      "Введите имя (из словаря выше): Bob\n",
      "Bob 30\n"
     ]
    }
   ],
   "source": [
    "name = input(\"Введите имя (из словаря выше): \")\n",
    "print(name, get_age(name))"
   ]
  },
  {
   "cell_type": "markdown",
   "metadata": {
    "id": "lpjJz-_YcJ-t"
   },
   "source": [
    "# **Задание 2**\n"
   ]
  },
  {
   "cell_type": "markdown",
   "metadata": {
    "id": "tMEsAB4rUiWW"
   },
   "source": [
    "\n",
    "\n",
    "Дан список, состоящий из целых чисел, необходимо написать функцию считающую сумму всех положительных четных чисел списка\n",
    "\n",
    "Ввод:\n",
    "\n",
    "```\n",
    "1, 2, 3, 4, 5, 6, 7, 8, 9\n",
    "```\n",
    "\n",
    "Вывод:\n",
    "\n",
    "\n",
    "```\n",
    "20\n",
    "```\n",
    "\n",
    "***Запрещено:***\n",
    "\n",
    "*   Использование готовых функций для суммирования чисел\n"
   ]
  },
  {
   "cell_type": "code",
   "execution_count": null,
   "metadata": {
    "id": "wDNUFLeqNQS_"
   },
   "outputs": [],
   "source": [
    "def sum_only_positive_even_numbers(seq: tuple[int]) -> int:\n",
    "    res = 0\n",
    "    for elem in seq:\n",
    "        if elem > 0 and elem % 2 == 0:\n",
    "            res += elem\n",
    "\n",
    "    return res"
   ]
  },
  {
   "cell_type": "code",
   "execution_count": null,
   "metadata": {
    "colab": {
     "base_uri": "https://localhost:8080/"
    },
    "executionInfo": {
     "elapsed": 4734,
     "status": "ok",
     "timestamp": 1729352502962,
     "user": {
      "displayName": "_Griff __",
      "userId": "13893896625557140990"
     },
     "user_tz": -300
    },
    "id": "pLR2EpVuzocH",
    "outputId": "11920b6c-f445-46a2-85be-c2e7013b2769"
   },
   "outputs": [
    {
     "name": "stdout",
     "output_type": "stream",
     "text": [
      " 1, 2, 3, 4, 5\n",
      "6\n"
     ]
    }
   ],
   "source": [
    "seq = tuple(map(int, input().split(', ')))\n",
    "print(sum_only_positive_even_numbers(seq))"
   ]
  },
  {
   "cell_type": "markdown",
   "metadata": {
    "id": "WT_v-vz1dUZJ"
   },
   "source": [
    "# **Задание 3**"
   ]
  },
  {
   "cell_type": "markdown",
   "metadata": {
    "id": "ZI5Xeh2DdXgF"
   },
   "source": [
    "Дан словарь, содержащий название фрукта и его цвет, выведите список всех желтых фруктов\n",
    "\n",
    "\n",
    "Дано:\n",
    "\n",
    "```\n",
    "fruits_and_colors = {\n",
    "    \"apple\": \"red\",\n",
    "    \"banana\": \"yellow\",\n",
    "    \"mango\": \"yellow\",\n",
    "    \"orange\": \"orange\",\n",
    "    \"lemon\": \"yellow\",\n",
    "    \"grape\": \"purple\"\n",
    "}\n",
    "```\n",
    "\n",
    "Вывод:\n",
    "\n",
    "\n",
    "```\n",
    "Yellow fruits:\n",
    "banana\n",
    "lemon\n",
    "mango\n",
    "```\n",
    "\n"
   ]
  },
  {
   "cell_type": "code",
   "execution_count": null,
   "metadata": {
    "colab": {
     "base_uri": "https://localhost:8080/"
    },
    "executionInfo": {
     "elapsed": 7,
     "status": "ok",
     "timestamp": 1729352444251,
     "user": {
      "displayName": "_Griff __",
      "userId": "13893896625557140990"
     },
     "user_tz": -300
    },
    "id": "aNzFTkhKdkTG",
    "outputId": "bb3311d9-2713-48df-eb80-18c41fdfda82"
   },
   "outputs": [
    {
     "name": "stdout",
     "output_type": "stream",
     "text": [
      "Yellow fruits:\n",
      "banana\n",
      "mango\n",
      "lemon\n"
     ]
    }
   ],
   "source": [
    "fruits_and_colors = {\n",
    "    \"apple\": \"red\",\n",
    "    \"banana\": \"yellow\",\n",
    "    \"mango\": \"yellow\",\n",
    "    \"orange\": \"orange\",\n",
    "    \"lemon\": \"yellow\",\n",
    "    \"grape\": \"purple\"\n",
    "}\n",
    "\n",
    "print(\"Yellow fruits:\")\n",
    "for fruit, color in fruits_and_colors.items():\n",
    "    if color == \"yellow\":\n",
    "        print(fruit)"
   ]
  },
  {
   "cell_type": "markdown",
   "metadata": {
    "id": "iHtMGt2icM7w"
   },
   "source": [
    "# **Задание 4**\n"
   ]
  },
  {
   "cell_type": "markdown",
   "metadata": {
    "id": "rS3THsnBQ_EB"
   },
   "source": [
    "\n",
    "\n",
    "Дан словарь, необходимо написать функцию меняющую ключ и значение местами\n",
    "\n",
    "Дано:\n",
    "\n",
    "\n",
    "```\n",
    "{\"a\": 1, \"b\": 2, \"c\": 3}\n",
    "```\n",
    "\n",
    "Вывод:\n",
    "\n",
    "```\n",
    "{1: 'a', 2: 'b', 3: 'c'}\n",
    "```\n",
    "\n"
   ]
  },
  {
   "cell_type": "code",
   "execution_count": null,
   "metadata": {
    "id": "MNRusyLDcQ59"
   },
   "outputs": [],
   "source": [
    "def swap_keys_and_values(dicty: dict) -> dict:\n",
    "    return {value: key for key, value in dicty.items()}  # Dict Comprehensions, PEP 274"
   ]
  },
  {
   "cell_type": "code",
   "execution_count": null,
   "metadata": {
    "colab": {
     "base_uri": "https://localhost:8080/"
    },
    "executionInfo": {
     "elapsed": 356,
     "status": "ok",
     "timestamp": 1729352509732,
     "user": {
      "displayName": "_Griff __",
      "userId": "13893896625557140990"
     },
     "user_tz": -300
    },
    "id": "vZIL1EK-ybcf",
    "outputId": "50f59390-57e8-4b03-c116-9d1d47cdfec7"
   },
   "outputs": [
    {
     "name": "stdout",
     "output_type": "stream",
     "text": [
      "{1: 'a', 2: 'b', 3: 'c'}\n"
     ]
    }
   ],
   "source": [
    "print(swap_keys_and_values({\"a\": 1, \"b\": 2, \"c\": 3}))"
   ]
  },
  {
   "cell_type": "markdown",
   "metadata": {
    "id": "x6ff5nd0cUxD"
   },
   "source": [
    "# **Задание 5**"
   ]
  },
  {
   "cell_type": "markdown",
   "metadata": {
    "id": "ypQNHOG4NQz3"
   },
   "source": [
    "Дан список слов, неограниченной длинны, сформируйте словарь, где в качестве ключа будет слово, а в качестве значения количество символов\n",
    "\n",
    "**Критерии**\n",
    "\n",
    "\n",
    "*   Словарь необходимо отсортировать по убыванию количества элементов в списке.\n",
    "*   Подсчет элементов должен быть реализован в отдельной функции\n",
    "*   Сортировка пары `ключ:значение` должна быть реализована также в виде отдельной функции\n",
    "\n",
    "\n",
    "\n",
    "\n",
    "Дано:\n",
    "```\n",
    "['apple','banana','orange','apple','apple','banana']\n",
    "```\n",
    "\n",
    "\n",
    "Вывод:\n",
    "```\n",
    "{'apple':3, 'banana': 2, 'orange': 1}\n",
    "```\n",
    "\n",
    "***Запрещено:***\n",
    "\n",
    "*   Использование готовых функций для сортировки словаря\n",
    "*   Использование готовых функций для подсчета элементов\n",
    "\n"
   ]
  },
  {
   "cell_type": "code",
   "execution_count": null,
   "metadata": {
    "id": "tpotn4TM5YEA"
   },
   "outputs": [],
   "source": [
    "def reversed_bubble_sort(seq: list[tuple[str, int]], key: Callable[[str, int], int]) -> Iterable[int]:  # не самая оптимизированная имплементация сортировки пузырьком\n",
    "    #  check function type-hint with static analyzer\n",
    "    for i in range(len(seq)-1):\n",
    "        for j in range(i, len(seq)):\n",
    "            if key(seq[i]) < key(seq[j]):\n",
    "                seq[i], seq[j] = seq[j], seq[i]\n",
    "    return seq"
   ]
  },
  {
   "cell_type": "code",
   "execution_count": null,
   "metadata": {
    "id": "2qUjWMIL5_xz"
   },
   "outputs": [],
   "source": [
    "# Микротест для bubble_sort\n",
    "assert reversed_bubble_sort([(\"apple\", 3), (\"banana\", 2), (\"orange\", 1)], lambda x: x[1]) == sorted([(\"apple\", 3), (\"banana\", 2), (\"orange\", 1)], key=lambda x: x[1], reverse=True)"
   ]
  },
  {
   "cell_type": "code",
   "execution_count": null,
   "metadata": {
    "id": "vmT_BrD60Qrh"
   },
   "outputs": [],
   "source": [
    "def count_elem(counter: dict[str, int], word: str) -> int:\n",
    "    if word in counter.keys():\n",
    "        counter[word] += 1\n",
    "    else:\n",
    "        counter[word] = 1\n",
    "\n",
    "\n",
    "def descending_sort_dict(t: tuple[tuple[str, int]]) -> dict[str, int]:\n",
    "    return reversed_bubble_sort(t, key=lambda x: x[1])\n",
    "\n",
    "\n",
    "def counter_daemon(inf_list: list[str]):\n",
    "    # Если список неограниченной длины - можно работать с ним только поэлементно\n",
    "    counter = dict()\n",
    "    for elem in inf_list:\n",
    "        count_elem(counter, elem)\n",
    "\n",
    "    counter = descending_sort_dict(tuple(counter.items()))\n",
    "    return dict(counter)"
   ]
  },
  {
   "cell_type": "code",
   "execution_count": null,
   "metadata": {
    "colab": {
     "base_uri": "https://localhost:8080/"
    },
    "executionInfo": {
     "elapsed": 9,
     "status": "ok",
     "timestamp": 1729352631411,
     "user": {
      "displayName": "_Griff __",
      "userId": "13893896625557140990"
     },
     "user_tz": -300
    },
    "id": "J10PjdVQUbyq",
    "outputId": "64ad1f53-4902-49c4-b8fb-ae4aabe1040a"
   },
   "outputs": [
    {
     "name": "stdout",
     "output_type": "stream",
     "text": [
      "{'apple': 3, 'banana': 2, 'orange': 1}\n"
     ]
    }
   ],
   "source": [
    "inf_list = ['apple','banana','orange','apple','apple','banana']\n",
    "print(counter_daemon(inf_list))"
   ]
  },
  {
   "cell_type": "markdown",
   "metadata": {
    "id": "d7fDUr2WcY_G"
   },
   "source": [
    "# **Задание 6**"
   ]
  },
  {
   "cell_type": "markdown",
   "metadata": {
    "id": "m11qdVhSWBi7"
   },
   "source": [
    "Дан словарь, содержащий информацию о людях, необходимо:\n",
    "\n",
    "\n",
    "\n",
    "*   Вывести всех людей старше 30 лет\n",
    "*   Вывести список городов и количество людей из словаря проживающих в них\n",
    "*   Вывести список профессий и список людей для каждой профессии\n",
    "\n",
    "**Критерии**\n",
    "\n",
    "Каждый из пунктов необходимо реализовать в виде функции\n",
    "\n"
   ]
  },
  {
   "cell_type": "code",
   "execution_count": null,
   "metadata": {
    "id": "lSNtB39OWtFl"
   },
   "outputs": [],
   "source": [
    "people_info = {\n",
    "    \"Alice\": {\"age\": 25, \"city\": \"New York\", \"occupation\": \"Engineer\"},\n",
    "    \"Bob\": {\"age\": 30, \"city\": \"Los Angeles\", \"occupation\": \"Designer\"},\n",
    "    \"Charlie\": {\"age\": 35, \"city\": \"Chicago\", \"occupation\": \"Teacher\"},\n",
    "    \"Diana\": {\"age\": 28, \"city\": \"Miami\", \"occupation\": \"Doctor\"},\n",
    "    \"Ethan\": {\"age\": 40, \"city\": \"Seattle\", \"occupation\": \"Chef\"},\n",
    "    \"Frank\": {\"age\": 32, \"city\": \"Atlanta\", \"occupation\": \"Lawyer\"},\n",
    "    \"Gabriella\": {\"age\": 29, \"city\": \"San Francisco\", \"occupation\": \"Software Engineer\"},\n",
    "    \"Harrison\": {\"age\": 38, \"city\": \"Denver\", \"occupation\": \"Architect\"},\n",
    "    \"Isabella\": {\"age\": 26, \"city\": \"Washington D.C.\", \"occupation\": \"Journalist\"},\n",
    "    \"Julian\": {\"age\": 42, \"city\": \"Miami\", \"occupation\": \"Musician\"},\n",
    "    \"Kate\": {\"age\": 31, \"city\": \"Philadelphia\", \"occupation\": \"Nurse\"},\n",
    "    \"Lucas\": {\"age\": 36, \"city\": \"Nashville\", \"occupation\": \"Businessman\"},\n",
    "    \"Mia\": {\"age\": 27, \"city\": \"Atlanta\", \"occupation\": \"Artist\"},\n",
    "    \"Natalie\": {\"age\": 39, \"city\": \"Portland\", \"occupation\": \"Writer\"},\n",
    "    \"Oliver\": {\"age\": 44, \"city\": \"Minneapolis\", \"occupation\": \"Professor\"},\n",
    "    \"Penelope\": {\"age\": 33, \"city\": \"San Diego\", \"occupation\": \"Marketing Manager\"},\n",
    "    \"Quincy\": {\"age\": 41, \"city\": \"Nashville\", \"occupation\": \"Singer\"},\n",
    "    \"Rachel\": {\"age\": 34, \"city\": \"Cleveland\", \"occupation\": \"Teacher\"},\n",
    "    \"Sophia\": {\"age\": 29, \"city\": \"Nashville\", \"occupation\": \"Engineer\"},\n",
    "    \"Tessa\": {\"age\": 37, \"city\": \"Miami\", \"occupation\": \"Lawyer\"}\n",
    "}"
   ]
  },
  {
   "cell_type": "code",
   "execution_count": null,
   "metadata": {
    "id": "qcLO5eQwXkNK"
   },
   "outputs": [],
   "source": [
    "def millenials_print(people_info: dict[str, dict[str, int|str]]) -> list[str]:\n",
    "    people = []\n",
    "    for person, params in people_info.items():\n",
    "        age, city, occupation = params.values()\n",
    "        if age > 30:\n",
    "            people.append(person)\n",
    "    return people"
   ]
  },
  {
   "cell_type": "code",
   "execution_count": null,
   "metadata": {
    "id": "a7ODUFoU9ge7"
   },
   "outputs": [],
   "source": [
    "def cities_and_pedestrians_print(people_info: dict[str, dict[str, int|str]]) -> tuple[tuple[str], tuple[int]]:\n",
    "    cities = dict()\n",
    "    for person, params in people_info.items():\n",
    "        age, city, occupation = params.values()\n",
    "        if city in cities.keys():\n",
    "            cities[city] += 1\n",
    "        else:\n",
    "            cities[city] = 1\n",
    "    return tuple(cities.keys()), tuple(cities.values())"
   ]
  },
  {
   "cell_type": "code",
   "execution_count": null,
   "metadata": {
    "id": "q_NCK5XX-LlG"
   },
   "outputs": [],
   "source": [
    "def occupation_and_persons_print(people_info: dict[str, dict[str, int|str]]) -> tuple[tuple[str], tuple[list[str]]]:\n",
    "    occupations = dict()\n",
    "    for person, params in people_info.items():\n",
    "        age, city, occupation = params.values()\n",
    "        if occupation in occupations.keys():\n",
    "            occupations[occupation].append(person)\n",
    "        else:\n",
    "            occupations[occupation] = [person]\n",
    "    return tuple(occupations.keys()), tuple(occupations.values())"
   ]
  },
  {
   "cell_type": "code",
   "execution_count": null,
   "metadata": {
    "colab": {
     "base_uri": "https://localhost:8080/"
    },
    "executionInfo": {
     "elapsed": 9,
     "status": "ok",
     "timestamp": 1729352576890,
     "user": {
      "displayName": "_Griff __",
      "userId": "13893896625557140990"
     },
     "user_tz": -300
    },
    "id": "6hhc7mZS_EM1",
    "outputId": "67f197d9-ba02-49bc-f946-b896fb08eb41"
   },
   "outputs": [
    {
     "name": "stdout",
     "output_type": "stream",
     "text": [
      "['Charlie', 'Ethan', 'Frank', 'Harrison', 'Julian', 'Kate', 'Lucas', 'Natalie', 'Oliver', 'Penelope', 'Quincy', 'Rachel', 'Tessa']\n"
     ]
    }
   ],
   "source": [
    "print(millenials_print(people_info))"
   ]
  },
  {
   "cell_type": "code",
   "execution_count": null,
   "metadata": {
    "colab": {
     "base_uri": "https://localhost:8080/"
    },
    "executionInfo": {
     "elapsed": 375,
     "status": "ok",
     "timestamp": 1729352578734,
     "user": {
      "displayName": "_Griff __",
      "userId": "13893896625557140990"
     },
     "user_tz": -300
    },
    "id": "iWEVpNHaAwVC",
    "outputId": "1468f0fa-f225-4057-dc30-2c6bfb802a62"
   },
   "outputs": [
    {
     "name": "stdout",
     "output_type": "stream",
     "text": [
      "(('New York', 'Los Angeles', 'Chicago', 'Miami', 'Seattle', 'Atlanta', 'San Francisco', 'Denver', 'Washington D.C.', 'Philadelphia', 'Nashville', 'Portland', 'Minneapolis', 'San Diego', 'Cleveland'), (1, 1, 1, 3, 1, 2, 1, 1, 1, 1, 3, 1, 1, 1, 1))\n"
     ]
    }
   ],
   "source": [
    "print(cities_and_pedestrians_print(people_info))"
   ]
  },
  {
   "cell_type": "code",
   "execution_count": null,
   "metadata": {
    "colab": {
     "base_uri": "https://localhost:8080/"
    },
    "executionInfo": {
     "elapsed": 10,
     "status": "ok",
     "timestamp": 1729352579091,
     "user": {
      "displayName": "_Griff __",
      "userId": "13893896625557140990"
     },
     "user_tz": -300
    },
    "id": "PsMgY8vXBK-u",
    "outputId": "4232a638-2436-41b6-a417-f2e999e6e2e4"
   },
   "outputs": [
    {
     "name": "stdout",
     "output_type": "stream",
     "text": [
      "(('Engineer', 'Designer', 'Teacher', 'Doctor', 'Chef', 'Lawyer', 'Software Engineer', 'Architect', 'Journalist', 'Musician', 'Nurse', 'Businessman', 'Artist', 'Writer', 'Professor', 'Marketing Manager', 'Singer'), (['Alice', 'Sophia'], ['Bob'], ['Charlie', 'Rachel'], ['Diana'], ['Ethan'], ['Frank', 'Tessa'], ['Gabriella'], ['Harrison'], ['Isabella'], ['Julian'], ['Kate'], ['Lucas'], ['Mia'], ['Natalie'], ['Oliver'], ['Penelope'], ['Quincy']))\n"
     ]
    }
   ],
   "source": [
    "print(occupation_and_persons_print(people_info))"
   ]
  },
  {
   "cell_type": "markdown",
   "metadata": {
    "id": "27IuB2YScezw"
   },
   "source": [
    "# **Задание 7**"
   ]
  },
  {
   "cell_type": "markdown",
   "metadata": {
    "id": "Fd95-S9cYhct"
   },
   "source": [
    "\n",
    "Задание: Разработка системы отзывов о предметах\n",
    "\n",
    "Описание: Создать программу на Python для хранения и управления отзывами о предметах учебного курса. Программа должна позволять пользователям добавлять, просматривать и удалять отзывы, а также вычислять средний балл по заданному предмету.\n",
    "\n",
    "**Функционал:**\n",
    "\n",
    "*   Добавление отзыва и оценки:\n",
    "   *   Пользователь может ввести название предмета, оценку (от 1 до 5) и текст отзыва.\n",
    "   *   Отзывы должны храниться в структуре данных (например, словаре), где ключом будет название предмета, а значением - список отзывов (каждый отзыв может хранить оценку и комментарий).\n",
    "*   Просмотр отзывов и оценок:\n",
    "   *   Пользователь может запросить отзывы для указанного предмета.\n",
    "   *   Если для указанного предмета есть отзывы, программа должна отобразить список всех отзывов и соответствующих оценок.\n",
    "*   Удаление отзыва:\n",
    "   *   Пользователь может удалить отзыв по индексу. Необходимо заранее уведомить пользователя о том, какие отзывы доступны для удаления.\n",
    "   *   Программа должна обработать ситуацию, когда индекс введен неправильно.\n",
    "*   Вычисление среднего балла по предмету:\n",
    "   *   Пользователь может ввести название предмета, и программа должна вычислить и вывести средний балл по всем отзывам для этого предмета.\n",
    "   *   Если отзывов нет, программа должна сообщить об этом.\n",
    "\n",
    "\n",
    "**Критерии:**\n",
    "\n",
    "*   Код должен быть оформлен в виде функций\n",
    "*   Необходимо обрабатывать неправильный ввод пользователя\n",
    "*   Должны быть комментарии к функциям\n",
    "*   Присутсвует весь дополнительный функционал\n",
    "\n",
    "\n",
    "\n",
    "**Опционально:**\n",
    "\n",
    "Предлагаю вам добавить свои критерии оценки или вопросы, на которые должен ответить студент, чтобы оценить пару\n",
    "\n",
    "\n"
   ]
  },
  {
   "cell_type": "code",
   "execution_count": 34,
   "metadata": {
    "executionInfo": {
     "elapsed": 368,
     "status": "ok",
     "timestamp": 1729427315800,
     "user": {
      "displayName": "_Griff __",
      "userId": "13893896625557140990"
     },
     "user_tz": -300
    },
    "id": "o_g7no_ezkt1"
   },
   "outputs": [],
   "source": [
    "def menu_interactions(interaction_cnt: int) -> None:\n",
    "    \"\"\"\n",
    "        Печатает в stdout действия, доступные пользователю, и их номера.\n",
    "        :param interaction-cnt: Количество действий, доступных пользователю\n",
    "    \"\"\"\n",
    "    INTERACTIONS = \"Добавить отзыв\", \"Показать отзывы для предмета\", \"Удалить отзыв\", \"Расчитать средний балл по предмету\", \"Сменить пользователя\"\n",
    "    interactions_counters = tuple(f\"{i}.\" for i in range(interaction_cnt))\n",
    "    interactions_seq = tuple(f\"{num} {interact}\" for num, interact in zip(interactions_counters, INTERACTIONS))\n",
    "    for msg in interactions_seq:\n",
    "        print(msg)\n",
    "\n",
    "\n",
    "def get_review() -> tuple[str, list[int, str]]:\n",
    "    \"\"\"\n",
    "        Формирует отзыв пользователя и возвращает кортеж\n",
    "        :return res: Кортеж из имени пользователя и кортежа отзыва - оценки за предмет и комментария\n",
    "    \"\"\"\n",
    "    VALID_MARKS = \"1\", \"2\", \"3\", \"4\", \"5\"\n",
    "\n",
    "    subject_name = input(\"Введите название предмета:\\n\")\n",
    "    is_lesson_mark_incorrect = True\n",
    "\n",
    "    while is_lesson_mark_incorrect:  # обработка неверной оценки за пару\n",
    "        lesson_mark = input(\"Введите оценку за пару (от 1 до 5):\\n\")\n",
    "        if lesson_mark in VALID_MARKS:\n",
    "            is_lesson_mark_incorrect = False\n",
    "            lesson_mark = int(lesson_mark)\n",
    "\n",
    "    review_text = input(\"Введите текст отзыва: (можете оставить его пустым)\\n\")\n",
    "    print(\"Спасибо за отзыв!\\n\")\n",
    "    res = subject_name, [lesson_mark, review_text]\n",
    "    return res\n",
    "\n",
    "\n",
    "def update_reviews_and_authors(subject_name: str, review: list[int, str], reviews: dict, authors: dict, username: str) -> None:\n",
    "    \"\"\"\n",
    "        Обновляет словари reviews и authors\n",
    "        :param subject_name: Название предмета\n",
    "        :param review: Экземпяр (класса) отзыва\n",
    "        :param reviews: Экземпляр словаря reviews\n",
    "        :param authors: Экземпляр словаря authors\n",
    "    \"\"\"\n",
    "    if subject_name in reviews: # создание/обновление списка отзывов для предмета\n",
    "        reviews[subject_name].append(review)\n",
    "    else:\n",
    "        reviews[subject_name] = [review]\n",
    "\n",
    "    if subject_name in authors[username]: # создание/обнолвение списка отзывов пользователя\n",
    "        authors[username][subject_name].append(review)\n",
    "    else:\n",
    "        authors[username][subject_name] = [review]\n",
    "\n",
    "\n",
    "def remove_review(username: str,\n",
    "                  reviews: dict[str, list[list[int, str]]],\n",
    "                  authors: dict[str, dict[str, list[list[int, str]]]]) -> None:\n",
    "    \"\"\"\n",
    "        Удаляет отзыв из системы.\n",
    "        :param username: Имя пользователя системы\n",
    "        :param reviews: Экземпляр класса reviews\n",
    "        :parma authors: Экземпляр класса authors\n",
    "    \"\"\"\n",
    "    author_reviews = tuple((subj, authors[username][subj]) for subj in authors[username])\n",
    "    reviews_indexed = tuple((subj, mark, comment) for subj, reviews_seq in author_reviews for mark, comment in reviews_seq)\n",
    "    for i in range(len(reviews_indexed)):\n",
    "        subject, mark, comment = reviews_indexed[i]\n",
    "        print(f\"{i}.\", subject, mark, comment, sep='\\t')  # печатает отзывы и индексы к ним\n",
    "    try:\n",
    "        review_index_to_delete = int(input(\"\\nВведите номер (без точки) отзыва, который хотите удалить: \\n\"))\n",
    "        if review_index_to_delete < len(reviews_indexed):\n",
    "            subj, *review = reviews_indexed[review_index_to_delete]\n",
    "            authors[username][subj].remove(review)\n",
    "            reviews[subj].remove(review)\n",
    "            print(\"Отзыв удален!\\n\")\n",
    "        else:\n",
    "            print(\"Отзыва с таким индексом не существует.\")\n",
    "    except ValueError:\n",
    "        print(\"Вы ввели неправильный индекс.\")\n",
    "\n",
    "\n",
    "def calc_mean_mark(subject_name: str, reviews: dict[str, list[list[int, str]]]) -> None:\n",
    "    \"\"\"\n",
    "        Расчитывает среднюю оценку предмета по отзывам.\n",
    "        :param subject_name: Название предмета\n",
    "        :param reviews: Экземпляр словаря reviews\n",
    "    \"\"\"\n",
    "    subject_name = input(\"Введите название предмета:\\n\")\n",
    "    if subject_name in reviews:\n",
    "        mean_mark = sum(mark for mark, _ in reviews[subject_name]) / len(reviews[subject_name])\n",
    "        print(f'Средняя оценка по предмету {subject_name}:', mean_mark)\n",
    "    else:\n",
    "        print(\"Отзывов на предмет нет :(\")"
   ]
  },
  {
   "cell_type": "code",
   "execution_count": 31,
   "metadata": {
    "executionInfo": {
     "elapsed": 6,
     "status": "ok",
     "timestamp": 1729427001020,
     "user": {
      "displayName": "_Griff __",
      "userId": "13893896625557140990"
     },
     "user_tz": -300
    },
    "id": "uIqrRchF8S4p"
   },
   "outputs": [],
   "source": [
    "reviews = dict()\n",
    "authors = dict()"
   ]
  },
  {
   "cell_type": "code",
   "execution_count": 35,
   "metadata": {
    "executionInfo": {
     "elapsed": 374,
     "status": "ok",
     "timestamp": 1729427318875,
     "user": {
      "displayName": "_Griff __",
      "userId": "13893896625557140990"
     },
     "user_tz": -300
    },
    "id": "kzucJrCUa0o7"
   },
   "outputs": [],
   "source": [
    "def review_script_daemon() -> None:\n",
    "    \"\"\"Main-функция, запускающая сервис.\"\"\"\n",
    "    global reviews, authors  # для простоты просмотра словарей вне ячейки. Практика использования global очень ужасна.\n",
    "    while True:\n",
    "        username = input(\"Добро пожаловать в систему хранения и размещения отзывов (сХИРО). Введите имя пользователя:\\n\")\n",
    "        if username not in authors:\n",
    "            authors[username] = dict()\n",
    "        menu_interactions(5)\n",
    "\n",
    "        while True:\n",
    "            action = input('Напишите номер (без точки) для взаимодействия с сервисом:\\n').strip()\n",
    "            match action:\n",
    "                case \"0\":  # Добавить отзыв\n",
    "                    subject_name, review = get_review()\n",
    "                    update_reviews_and_authors(subject_name, review, reviews, authors, username)\n",
    "                case \"1\":  # Показать отзыв для предмета\n",
    "                    subject_name = input(\"Введите название предмета:\\n\")\n",
    "                    if subject_name in reviews:\n",
    "                        print(\"Отзывы: (оценка, комментарий)\")\n",
    "                        for review in reviews[subject_name]:\n",
    "                            print(*review, sep='\\t')\n",
    "                    else:\n",
    "                        print(\"Отзывов на предмет нет :(\")\n",
    "                case \"2\":  # Удалить отзыв\n",
    "                    if authors[username] != dict():\n",
    "                        print(\"Ваши отзывы (номер, предмет, оценка, комментарий)\")\n",
    "                        remove_review(username, reviews, authors)\n",
    "                    else:\n",
    "                        print(\"Вы не писали отзывы!\")\n",
    "                case \"3\":  # Расчитать средний балл по предмету\n",
    "                    calc_mean_mark(subject_name, reviews)\n",
    "                case \"4\":  # Сменить пользователя\n",
    "                    break\n",
    "                case _: # обработка любого другого значения\n",
    "                    print(\"Вы ошиблись.\\n\")"
   ]
  },
  {
   "cell_type": "code",
   "execution_count": 36,
   "metadata": {
    "colab": {
     "base_uri": "https://localhost:8080/"
    },
    "executionInfo": {
     "elapsed": 88190,
     "status": "ok",
     "timestamp": 1729427408482,
     "user": {
      "displayName": "_Griff __",
      "userId": "13893896625557140990"
     },
     "user_tz": -300
    },
    "id": "l1T82azBrgPW",
    "outputId": "c2b7660b-8684-4433-bbe7-4b2935e41a89"
   },
   "outputs": [
    {
     "name": "stdout",
     "output_type": "stream",
     "text": [
      "Добро пожаловать в систему хранения и размещения отзывов (сХИРО). Введите имя пользователя:\n",
      "Новиков\n",
      "0. Добавить отзыв\n",
      "1. Показать отзывы для предмета\n",
      "2. Удалить отзыв\n",
      "3. Расчитать средний балл по предмету\n",
      "4. Сменить пользователя\n",
      "Напишите номер (без точки) для взаимодействия с сервисом:\n",
      "1\n",
      "Введите название предмета:\n",
      "ИТИС\n",
      "Отзывов на предмет нет :(\n",
      "Напишите номер (без точки) для взаимодействия с сервисом:\n",
      "0\n",
      "Введите название предмета:\n",
      "Матеша\n",
      "Введите оценку за пару (от 1 до 5):\n",
      "2\n",
      "Введите текст отзыва: (можете оставить его пустым)\n",
      "ХАХА\n",
      "Спасибо за отзыв!\n",
      "\n",
      "Напишите номер (без точки) для взаимодействия с сервисом:\n",
      "1\n",
      "Введите название предмета:\n",
      "ИТИС\n",
      "Отзывов на предмет нет :(\n",
      "Напишите номер (без точки) для взаимодействия с сервисом:\n",
      "1\n",
      "Введите название предмета:\n",
      "Матеша\n",
      "Отзывы: (оценка, комментарий)\n",
      "2\tХАХА\n",
      "Напишите номер (без точки) для взаимодействия с сервисом:\n",
      "4\n",
      "Добро пожаловать в систему хранения и размещения отзывов (сХИРО). Введите имя пользователя:\n",
      "Ланьков\n",
      "0. Добавить отзыв\n",
      "1. Показать отзывы для предмета\n",
      "2. Удалить отзыв\n",
      "3. Расчитать средний балл по предмету\n",
      "4. Сменить пользователя\n",
      "Напишите номер (без точки) для взаимодействия с сервисом:\n",
      "\n",
      "Вы ошиблись.\n",
      "\n",
      "Напишите номер (без точки) для взаимодействия с сервисом:\n",
      "1\n",
      "Введите название предмета:\n",
      "Матеша\n",
      "Отзывы: (оценка, комментарий)\n",
      "2\tХАХА\n",
      "Review system was Ctrl-C by user\n"
     ]
    }
   ],
   "source": [
    "try:\n",
    "    review_script_daemon()\n",
    "except KeyboardInterrupt:\n",
    "    print('Review system was Ctrl-C by user')"
   ]
  },
  {
   "cell_type": "code",
   "execution_count": 28,
   "metadata": {
    "colab": {
     "base_uri": "https://localhost:8080/"
    },
    "executionInfo": {
     "elapsed": 320,
     "status": "ok",
     "timestamp": 1729426706504,
     "user": {
      "displayName": "_Griff __",
      "userId": "13893896625557140990"
     },
     "user_tz": -300
    },
    "id": "6D0JKVTCrlq6",
    "outputId": "d18574e1-f11e-498e-add2-5ad728597f85"
   },
   "outputs": [
    {
     "data": {
      "text/plain": [
       "{'Ланьков': {'ИТИС': [[4, 'ХАХА']]}}"
      ]
     },
     "execution_count": 28,
     "metadata": {},
     "output_type": "execute_result"
    }
   ],
   "source": [
    "11authors"
   ]
  },
  {
   "cell_type": "code",
   "execution_count": 29,
   "metadata": {
    "colab": {
     "base_uri": "https://localhost:8080/"
    },
    "executionInfo": {
     "elapsed": 12,
     "status": "ok",
     "timestamp": 1729426707615,
     "user": {
      "displayName": "_Griff __",
      "userId": "13893896625557140990"
     },
     "user_tz": -300
    },
    "id": "OxyIRmWS9y3J",
    "outputId": "62808720-a03c-42f7-8840-3cb91711d478"
   },
   "outputs": [
    {
     "data": {
      "text/plain": [
       "{'ИТИС': [[4, 'ХАХА']]}"
      ]
     },
     "execution_count": 29,
     "metadata": {},
     "output_type": "execute_result"
    }
   ],
   "source": [
    "reviews"
   ]
  }
 ],
 "metadata": {
  "colab": {
   "provenance": [
    {
     "file_id": "1TEBJaKANAI0JxDY268tNeKGpHMChb2sK",
     "timestamp": 1728988507725
    }
   ]
  },
  "kernelspec": {
   "display_name": "Python 3 (ipykernel)",
   "language": "python",
   "name": "python3"
  },
  "language_info": {
   "codemirror_mode": {
    "name": "ipython",
    "version": 3
   },
   "file_extension": ".py",
   "mimetype": "text/x-python",
   "name": "python",
   "nbconvert_exporter": "python",
   "pygments_lexer": "ipython3",
   "version": "3.12.5"
  }
 },
 "nbformat": 4,
 "nbformat_minor": 4
}
